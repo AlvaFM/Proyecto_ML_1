{
 "cells": [
  {
   "cell_type": "markdown",
   "id": "7cf82eb7-509b-45b9-8a84-597d4b699986",
   "metadata": {},
   "source": [
    "# 🎯 OBJETIVO DEL PROYECTO\n",
    "Analizar cómo la edad y nivel de actividad de los perros influyen en su estado  \n",
    "de salud general, y cómo esta relación se ve potenciada por la inversión en bienestar animal.  \n",
    "\n",
    "---\n",
    "\n",
    "# 🔍 HIPÓTESIS PRINCIPAL\n",
    "*\"La edad y nivel de actividad de los perros influye en su estado de salud general,  \n",
    "y esta relación se ve potenciada en lugares con mayor inversión en bienestar.\"*  \n"
   ]
  },
  {
   "cell_type": "markdown",
   "id": "9f7bd859-9c1a-46c3-919d-60c973d57789",
   "metadata": {},
   "source": [
    "%load_ext kedro.ipython\n",
    "print(\"Kedro extension loaded!\")"
   ]
  },
  {
   "cell_type": "code",
   "execution_count": 2,
   "id": "d7035426-3662-4405-a1e7-17801e45eb9d",
   "metadata": {},
   "outputs": [
    {
     "data": {
      "text/html": [
       "<pre style=\"white-space:pre;overflow-x:auto;line-height:normal;font-family:Menlo,'DejaVu Sans Mono',consolas,'Courier New',monospace\"></pre>\n"
      ],
      "text/plain": []
     },
     "metadata": {},
     "output_type": "display_data"
    },
    {
     "data": {
      "text/plain": [
       "\n",
       "\u001b[1m[\u001b[0m\n",
       "    \u001b[32m'animal_charity_donation_records'\u001b[0m,\n",
       "    \u001b[32m'synthetic_dog_breed_health_data'\u001b[0m,\n",
       "    \u001b[32m'aac_intakes_outcomes'\u001b[0m,\n",
       "    \u001b[32m'cleaned_dog_breed'\u001b[0m,\n",
       "    \u001b[32m'cleaned_charity_donations'\u001b[0m,\n",
       "    \u001b[32m'cleaned_dog_breed_notebook'\u001b[0m,\n",
       "    \u001b[32m'cleaned_charity_donations_notebook'\u001b[0m,\n",
       "    \u001b[32m'parameters'\u001b[0m,\n",
       "    \u001b[32m'params:data_engineering'\u001b[0m,\n",
       "    \u001b[32m'params:data_engineering.imputation_strategy'\u001b[0m,\n",
       "    \u001b[32m'params:data_engineering.imputation_strategy.numerical'\u001b[0m,\n",
       "    \u001b[32m'params:data_engineering.imputation_strategy.categorical'\u001b[0m,\n",
       "    \u001b[32m'params:data_engineering.scaling'\u001b[0m,\n",
       "    \u001b[32m'params:data_engineering.scaling.standard_scaler'\u001b[0m,\n",
       "    \u001b[32m'params:data_engineering.scaling.robust_scaler'\u001b[0m,\n",
       "    \u001b[32m'params:data_engineering.outlier_limits'\u001b[0m,\n",
       "    \u001b[32m'params:data_engineering.outlier_limits.lower_percentile'\u001b[0m,\n",
       "    \u001b[32m'params:data_engineering.outlier_limits.upper_percentile'\u001b[0m,\n",
       "    \u001b[32m'params:data_engineering.outlier_limits.iqr_multiplier'\u001b[0m,\n",
       "    \u001b[32m'params:data_engineering.encode_columns'\u001b[0m,\n",
       "    \u001b[32m'params:donation_specific'\u001b[0m,\n",
       "    \u001b[32m'params:donation_specific.columns_to_drop'\u001b[0m,\n",
       "    \u001b[32m'params:donation_specific.amount_outlier_percentiles'\u001b[0m,\n",
       "    \u001b[32m'params:donation_specific.categorical_cols_to_encode'\u001b[0m\n",
       "\u001b[1m]\u001b[0m"
      ]
     },
     "execution_count": 2,
     "metadata": {},
     "output_type": "execute_result"
    }
   ],
   "source": [
    "catalog.keys()\n"
   ]
  },
  {
   "cell_type": "code",
   "execution_count": 5,
   "id": "392d8dd3-fef0-417c-bba5-c9d9cbe6a103",
   "metadata": {},
   "outputs": [
    {
     "data": {
      "text/html": [
       "<pre style=\"white-space:pre;overflow-x:auto;line-height:normal;font-family:Menlo,'DejaVu Sans Mono',consolas,'Courier New',monospace\"><span style=\"color: #7fbfbf; text-decoration-color: #7fbfbf\">[09/14/25 02:48:03] </span><span style=\"color: #000080; text-decoration-color: #000080\">INFO    </span> Loading data from <span style=\"color: #ff8700; text-decoration-color: #ff8700\">animal_charity_donation_records</span> <span style=\"font-weight: bold\">(</span>CSVDataset<span style=\"font-weight: bold\">)</span><span style=\"color: #808000; text-decoration-color: #808000\">...</span> <a href=\"file://C:\\Users\\alvaro\\Documents\\GitHub\\MachineLearning\\Proyecto_ML_1\\.venv\\lib\\site-packages\\kedro\\io\\data_catalog.py\" target=\"_blank\"><span style=\"color: #7f7f7f; text-decoration-color: #7f7f7f\">data_catalog.py</span></a><span style=\"color: #7f7f7f; text-decoration-color: #7f7f7f\">:</span><a href=\"file://C:\\Users\\alvaro\\Documents\\GitHub\\MachineLearning\\Proyecto_ML_1\\.venv\\lib\\site-packages\\kedro\\io\\data_catalog.py#1046\" target=\"_blank\"><span style=\"color: #7f7f7f; text-decoration-color: #7f7f7f\">1046</span></a>\n",
       "</pre>\n"
      ],
      "text/plain": [
       "\u001b[2;36m[09/14/25 02:48:03]\u001b[0m\u001b[2;36m \u001b[0m\u001b[34mINFO    \u001b[0m Loading data from \u001b[38;5;208manimal_charity_donation_records\u001b[0m \u001b[1m(\u001b[0mCSVDataset\u001b[1m)\u001b[0m\u001b[33m...\u001b[0m \u001b]8;id=926683;file://C:\\Users\\alvaro\\Documents\\GitHub\\MachineLearning\\Proyecto_ML_1\\.venv\\lib\\site-packages\\kedro\\io\\data_catalog.py\u001b\\\u001b[2mdata_catalog.py\u001b[0m\u001b]8;;\u001b\\\u001b[2m:\u001b[0m\u001b]8;id=318426;file://C:\\Users\\alvaro\\Documents\\GitHub\\MachineLearning\\Proyecto_ML_1\\.venv\\lib\\site-packages\\kedro\\io\\data_catalog.py#1046\u001b\\\u001b[2m1046\u001b[0m\u001b]8;;\u001b\\\n"
      ]
     },
     "metadata": {},
     "output_type": "display_data"
    },
    {
     "data": {
      "text/html": [
       "<pre style=\"white-space:pre;overflow-x:auto;line-height:normal;font-family:Menlo,'DejaVu Sans Mono',consolas,'Courier New',monospace\"><span style=\"color: #7fbfbf; text-decoration-color: #7fbfbf\">                    </span><span style=\"color: #000080; text-decoration-color: #000080\">INFO    </span> Loading data from <span style=\"color: #ff8700; text-decoration-color: #ff8700\">synthetic_dog_breed_health_data</span> <span style=\"font-weight: bold\">(</span>CSVDataset<span style=\"font-weight: bold\">)</span><span style=\"color: #808000; text-decoration-color: #808000\">...</span> <a href=\"file://C:\\Users\\alvaro\\Documents\\GitHub\\MachineLearning\\Proyecto_ML_1\\.venv\\lib\\site-packages\\kedro\\io\\data_catalog.py\" target=\"_blank\"><span style=\"color: #7f7f7f; text-decoration-color: #7f7f7f\">data_catalog.py</span></a><span style=\"color: #7f7f7f; text-decoration-color: #7f7f7f\">:</span><a href=\"file://C:\\Users\\alvaro\\Documents\\GitHub\\MachineLearning\\Proyecto_ML_1\\.venv\\lib\\site-packages\\kedro\\io\\data_catalog.py#1046\" target=\"_blank\"><span style=\"color: #7f7f7f; text-decoration-color: #7f7f7f\">1046</span></a>\n",
       "</pre>\n"
      ],
      "text/plain": [
       "\u001b[2;36m                   \u001b[0m\u001b[2;36m \u001b[0m\u001b[34mINFO    \u001b[0m Loading data from \u001b[38;5;208msynthetic_dog_breed_health_data\u001b[0m \u001b[1m(\u001b[0mCSVDataset\u001b[1m)\u001b[0m\u001b[33m...\u001b[0m \u001b]8;id=656115;file://C:\\Users\\alvaro\\Documents\\GitHub\\MachineLearning\\Proyecto_ML_1\\.venv\\lib\\site-packages\\kedro\\io\\data_catalog.py\u001b\\\u001b[2mdata_catalog.py\u001b[0m\u001b]8;;\u001b\\\u001b[2m:\u001b[0m\u001b]8;id=210093;file://C:\\Users\\alvaro\\Documents\\GitHub\\MachineLearning\\Proyecto_ML_1\\.venv\\lib\\site-packages\\kedro\\io\\data_catalog.py#1046\u001b\\\u001b[2m1046\u001b[0m\u001b]8;;\u001b\\\n"
      ]
     },
     "metadata": {},
     "output_type": "display_data"
    },
    {
     "name": "stdout",
     "output_type": "stream",
     "text": [
      "df_charity_donation, df_dog_breed  raw y columnas\n"
     ]
    },
    {
     "data": {
      "text/html": [
       "<pre style=\"white-space:pre;overflow-x:auto;line-height:normal;font-family:Menlo,'DejaVu Sans Mono',consolas,'Courier New',monospace\"></pre>\n"
      ],
      "text/plain": []
     },
     "metadata": {},
     "output_type": "display_data"
    },
    {
     "data": {
      "text/plain": [
       "\u001b[1m(\u001b[0m\u001b[1;36m10000\u001b[0m, \u001b[1;36m21\u001b[0m\u001b[1m)\u001b[0m"
      ]
     },
     "execution_count": 5,
     "metadata": {},
     "output_type": "execute_result"
    }
   ],
   "source": [
    "df_charity_donation = catalog.load(\"animal_charity_donation_records\")\n",
    "df_dog_breed = catalog.load(\"synthetic_dog_breed_health_data\")\n",
    "\n",
    "\n",
    "\n",
    "print(\"df_charity_donation, df_dog_breed  raw y columnas\")\n"
   ]
  },
  {
   "cell_type": "code",
   "execution_count": 6,
   "id": "c3b8dbed-d61b-4438-987a-e980c8f9bc53",
   "metadata": {},
   "outputs": [
    {
     "data": {
      "text/html": [
       "<pre style=\"white-space:pre;overflow-x:auto;line-height:normal;font-family:Menlo,'DejaVu Sans Mono',consolas,'Courier New',monospace\"></pre>\n"
      ],
      "text/plain": []
     },
     "metadata": {},
     "output_type": "display_data"
    },
    {
     "data": {
      "text/plain": [
       "\u001b[1m(\u001b[0m\u001b[1;36m10000\u001b[0m, \u001b[1;36m14\u001b[0m\u001b[1m)\u001b[0m"
      ]
     },
     "execution_count": 6,
     "metadata": {},
     "output_type": "execute_result"
    }
   ],
   "source": [
    "df_charity_donation.shape"
   ]
  },
  {
   "cell_type": "code",
   "execution_count": 8,
   "id": "d4aed571-87a4-4a42-94a2-dded5fe770f6",
   "metadata": {},
   "outputs": [
    {
     "data": {
      "text/html": [
       "<pre style=\"white-space:pre;overflow-x:auto;line-height:normal;font-family:Menlo,'DejaVu Sans Mono',consolas,'Courier New',monospace\"></pre>\n"
      ],
      "text/plain": []
     },
     "metadata": {},
     "output_type": "display_data"
    },
    {
     "data": {
      "text/plain": [
       "\n",
       "\u001b[1;35mIndex\u001b[0m\u001b[1m(\u001b[0m\u001b[1m[\u001b[0m\u001b[32m'donor_id'\u001b[0m, \u001b[32m'age_group'\u001b[0m, \u001b[32m'gender'\u001b[0m, \u001b[32m'name'\u001b[0m, \u001b[32m'email'\u001b[0m, \u001b[32m'country'\u001b[0m,\n",
       "       \u001b[32m'donation_type'\u001b[0m, \u001b[32m'donation_amount'\u001b[0m, \u001b[32m'donation_date'\u001b[0m, \u001b[32m'payment_method'\u001b[0m,\n",
       "       \u001b[32m'newsletter_opt_in'\u001b[0m, \u001b[32m'referral_channel'\u001b[0m, \u001b[32m'sector'\u001b[0m, \u001b[32m'campaign'\u001b[0m\u001b[1m]\u001b[0m,\n",
       "      \u001b[33mdtype\u001b[0m=\u001b[32m'object'\u001b[0m\u001b[1m)\u001b[0m"
      ]
     },
     "execution_count": 8,
     "metadata": {},
     "output_type": "execute_result"
    }
   ],
   "source": [
    "df_charity_donation.columns"
   ]
  },
  {
   "cell_type": "code",
   "execution_count": 10,
   "id": "a317b665-cd21-450c-bb97-23ca9dbed53b",
   "metadata": {},
   "outputs": [
    {
     "data": {
      "text/html": [
       "<pre style=\"white-space:pre;overflow-x:auto;line-height:normal;font-family:Menlo,'DejaVu Sans Mono',consolas,'Courier New',monospace\"></pre>\n"
      ],
      "text/plain": []
     },
     "metadata": {},
     "output_type": "display_data"
    },
    {
     "data": {
      "text/plain": [
       "\n",
       "\u001b[1;35mIndex\u001b[0m\u001b[1m(\u001b[0m\u001b[1m[\u001b[0m\u001b[32m'ID'\u001b[0m, \u001b[32m'Breed'\u001b[0m, \u001b[32m'Breed Size'\u001b[0m, \u001b[32m'Sex'\u001b[0m, \u001b[32m'Age'\u001b[0m, \u001b[32m'Weight \u001b[0m\u001b[32m(\u001b[0m\u001b[32mlbs\u001b[0m\u001b[32m)\u001b[0m\u001b[32m'\u001b[0m,\n",
       "       \u001b[32m'Spay/Neuter Status'\u001b[0m, \u001b[32m'Daily Activity Level'\u001b[0m, \u001b[32m'Diet'\u001b[0m, \u001b[32m'Food Brand'\u001b[0m,\n",
       "       \u001b[32m'Daily Walk Distance \u001b[0m\u001b[32m(\u001b[0m\u001b[32mmiles\u001b[0m\u001b[32m)\u001b[0m\u001b[32m'\u001b[0m, \u001b[32m'Other Pets in Household'\u001b[0m, \u001b[32m'Medications'\u001b[0m,\n",
       "       \u001b[32m'Seizures'\u001b[0m, \u001b[32m'Hours of Sleep'\u001b[0m, \u001b[32m'Play Time \u001b[0m\u001b[32m(\u001b[0m\u001b[32mhrs\u001b[0m\u001b[32m)\u001b[0m\u001b[32m'\u001b[0m, \u001b[32m'Owner Activity Level'\u001b[0m,\n",
       "       \u001b[32m'Annual Vet Visits'\u001b[0m, \u001b[32m'Average Temperature \u001b[0m\u001b[32m(\u001b[0m\u001b[32mF\u001b[0m\u001b[32m)\u001b[0m\u001b[32m'\u001b[0m, \u001b[32m'Synthetic'\u001b[0m, \u001b[32m'Healthy'\u001b[0m\u001b[1m]\u001b[0m,\n",
       "      \u001b[33mdtype\u001b[0m=\u001b[32m'object'\u001b[0m\u001b[1m)\u001b[0m"
      ]
     },
     "execution_count": 10,
     "metadata": {},
     "output_type": "execute_result"
    }
   ],
   "source": [
    "df_dog_breed.columns"
   ]
  },
  {
   "cell_type": "markdown",
   "id": "f01da130-cf22-45a5-bccc-f739dd16ec36",
   "metadata": {},
   "source": [
    "# 📌 VARIABLES CLAVE PARA ANÁLISIS\n",
    "\n",
    "### 🐶 synthetic_dog_breed_health_data (Salud)\n",
    "- **Age**: Edad del perro  \n",
    "- **Daily Activity Level**: Nivel de actividad  \n",
    "- **Daily Walk Distance**: Distancia de caminata  \n",
    "- **Healthy**: Estado de salud (**target**)  \n",
    "\n",
    "### 💰 animal_charity_donation_records (Inversión)\n",
    "- **donation_amount**: Monto invertido  \n",
    "- **country**: Ubicación geográfica  \n",
    "- **campaign**: Programa de bienestar  \n",
    "- **donation_type**: Tipo de inversión  \n",
    "\n",
    "### 🏥 aac_intakes_outcomes (Clínica – por analizar)\n",
    "*(Pendiente de exploración y definición de variables relevantes)*  \n"
   ]
  },
  {
   "cell_type": "markdown",
   "id": "a4d7282a-2c50-48d9-9c7a-6987c2f55dfc",
   "metadata": {},
   "source": [
    "# 📋 METODOLOGÍA CRISP-DM - FASES\n",
    "\n",
    "### 1. 📊 BUSINESS UNDERSTANDING (Este notebook)\n",
    "- Definir objetivos e hipótesis  \n",
    "- Identificar datasets disponibles  \n",
    "- Planificar análisis  \n",
    "\n",
    "### 2. 🔍 DATA UNDERSTANDING (Notebook 02)\n",
    "- Análisis exploratorio (EDA)  \n",
    "- Detección de missing values y outliers  \n",
    "- Análisis de distribuciones  \n",
    "\n",
    "### 3. 🧹 DATA PREPARATION (Notebook 03)\n",
    "- Limpieza y preprocesamiento  \n",
    "- Feature engineering  \n",
    "- Pipelines de transformación  \n",
    "\n",
    "### 4. 🤖 MODELING (Notebook 04 - futuro)\n",
    "- Entrenamiento de modelos ML  \n",
    "- Evaluación de resultados  \n",
    "- Optimización de hiperparámetros  \n"
   ]
  },
  {
   "cell_type": "markdown",
   "id": "0a563bd2-1822-40fd-91ed-18acddb8e00b",
   "metadata": {},
   "source": [
    "# ❓ PREGUNTAS DE INVESTIGACIÓN\n",
    "\n",
    "1. ¿Los perros más activos tienen mejor salud?  \n",
    "2. ¿La edad afecta significativamente la salud canina?  \n",
    "3. ¿Países con mayor inversión tienen perros más saludables?  \n",
    "4. ¿Qué campañas de bienestar son más efectivas?  \n",
    "5. ¿Donantes mensuales vs. únicos: qué impacto tienen?  \n"
   ]
  },
  {
   "cell_type": "code",
   "execution_count": null,
   "id": "f2b940fe-a5dc-4c05-a1bd-343fe1f8ce01",
   "metadata": {},
   "outputs": [],
   "source": []
  }
 ],
 "metadata": {
  "kernelspec": {
   "display_name": "Kedro (dino_project)",
   "language": "python",
   "name": "kedro_dino_project"
  },
  "language_info": {
   "codemirror_mode": {
    "name": "ipython",
    "version": 3
   },
   "file_extension": ".py",
   "mimetype": "text/x-python",
   "name": "python",
   "nbconvert_exporter": "python",
   "pygments_lexer": "ipython3",
   "version": "3.10.6"
  }
 },
 "nbformat": 4,
 "nbformat_minor": 5
}
