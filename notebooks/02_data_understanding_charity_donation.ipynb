{
 "cells": [
  {
   "cell_type": "code",
   "execution_count": 66,
   "id": "f9f59311-c7fc-4ba7-9c92-3ea60580044b",
   "metadata": {},
   "outputs": [
    {
     "name": "stdout",
     "output_type": "stream",
     "text": [
      "The kedro.ipython extension is already loaded. To reload it, use:\n",
      "  %reload_ext kedro.ipython\n",
      "Kedro extension loaded!\n"
     ]
    }
   ],
   "source": [
    "%load_ext kedro.ipython\n",
    "print(\"Kedro extension loaded!\")"
   ]
  },
  {
   "cell_type": "code",
   "execution_count": 67,
   "id": "113d8b38-e42b-4585-8bd6-c692c25438c3",
   "metadata": {},
   "outputs": [
    {
     "name": "stdout",
     "output_type": "stream",
     "text": [
      "Datasets disponibles en el catálogo:\n"
     ]
    },
    {
     "data": {
      "text/html": [
       "<pre style=\"white-space:pre;overflow-x:auto;line-height:normal;font-family:Menlo,'DejaVu Sans Mono',consolas,'Courier New',monospace\"></pre>\n"
      ],
      "text/plain": []
     },
     "metadata": {},
     "output_type": "display_data"
    },
    {
     "data": {
      "text/plain": [
       "\n",
       "\u001b[1m[\u001b[0m\n",
       "    \u001b[32m'aac_intakes_outcomes'\u001b[0m,\n",
       "    \u001b[32m'cleaned_donations'\u001b[0m,\n",
       "    \u001b[32m'parameters'\u001b[0m,\n",
       "    \u001b[32m'params:data_engineering'\u001b[0m,\n",
       "    \u001b[32m'params:data_engineering.imputation_strategy'\u001b[0m,\n",
       "    \u001b[32m'params:data_engineering.imputation_strategy.numerical'\u001b[0m,\n",
       "    \u001b[32m'params:data_engineering.imputation_strategy.categorical'\u001b[0m,\n",
       "    \u001b[32m'params:data_engineering.scaling'\u001b[0m,\n",
       "    \u001b[32m'params:data_engineering.scaling.standard_scaler'\u001b[0m,\n",
       "    \u001b[32m'params:data_engineering.scaling.robust_scaler'\u001b[0m,\n",
       "    \u001b[32m'params:data_engineering.outlier_limits'\u001b[0m,\n",
       "    \u001b[32m'params:data_engineering.outlier_limits.lower_percentile'\u001b[0m,\n",
       "    \u001b[32m'params:data_engineering.outlier_limits.upper_percentile'\u001b[0m,\n",
       "    \u001b[32m'params:data_engineering.outlier_limits.iqr_multiplier'\u001b[0m,\n",
       "    \u001b[32m'params:data_engineering.encode_columns'\u001b[0m,\n",
       "    \u001b[32m'synthetic_dog_breed_health_data'\u001b[0m,\n",
       "    \u001b[32m'animal_charity_donation_records'\u001b[0m\n",
       "\u001b[1m]\u001b[0m"
      ]
     },
     "execution_count": 67,
     "metadata": {},
     "output_type": "execute_result"
    }
   ],
   "source": [
    "print(\"Datasets disponibles en el catálogo:\")\n",
    "catalog.keys()\n",
    "\n"
   ]
  },
  {
   "cell_type": "code",
   "execution_count": 68,
   "id": "98c36a2e-65fd-4324-8519-132ae400aaae",
   "metadata": {},
   "outputs": [
    {
     "data": {
      "text/html": [
       "<pre style=\"white-space:pre;overflow-x:auto;line-height:normal;font-family:Menlo,'DejaVu Sans Mono',consolas,'Courier New',monospace\"><span style=\"color: #7fbfbf; text-decoration-color: #7fbfbf\">[09/14/25 01:35:57] </span><span style=\"color: #000080; text-decoration-color: #000080\">INFO    </span> Loading data from <span style=\"color: #ff8700; text-decoration-color: #ff8700\">animal_charity_donation_records</span> <span style=\"font-weight: bold\">(</span>CSVDataset<span style=\"font-weight: bold\">)</span><span style=\"color: #808000; text-decoration-color: #808000\">...</span> <a href=\"file://C:\\Users\\alvaro\\Documents\\GitHub\\MachineLearning\\Proyecto_ML_1\\.venv\\lib\\site-packages\\kedro\\io\\data_catalog.py\" target=\"_blank\"><span style=\"color: #7f7f7f; text-decoration-color: #7f7f7f\">data_catalog.py</span></a><span style=\"color: #7f7f7f; text-decoration-color: #7f7f7f\">:</span><a href=\"file://C:\\Users\\alvaro\\Documents\\GitHub\\MachineLearning\\Proyecto_ML_1\\.venv\\lib\\site-packages\\kedro\\io\\data_catalog.py#1046\" target=\"_blank\"><span style=\"color: #7f7f7f; text-decoration-color: #7f7f7f\">1046</span></a>\n",
       "</pre>\n"
      ],
      "text/plain": [
       "\u001b[2;36m[09/14/25 01:35:57]\u001b[0m\u001b[2;36m \u001b[0m\u001b[34mINFO    \u001b[0m Loading data from \u001b[38;5;208manimal_charity_donation_records\u001b[0m \u001b[1m(\u001b[0mCSVDataset\u001b[1m)\u001b[0m\u001b[33m...\u001b[0m \u001b]8;id=250244;file://C:\\Users\\alvaro\\Documents\\GitHub\\MachineLearning\\Proyecto_ML_1\\.venv\\lib\\site-packages\\kedro\\io\\data_catalog.py\u001b\\\u001b[2mdata_catalog.py\u001b[0m\u001b]8;;\u001b\\\u001b[2m:\u001b[0m\u001b]8;id=27604;file://C:\\Users\\alvaro\\Documents\\GitHub\\MachineLearning\\Proyecto_ML_1\\.venv\\lib\\site-packages\\kedro\\io\\data_catalog.py#1046\u001b\\\u001b[2m1046\u001b[0m\u001b]8;;\u001b\\\n"
      ]
     },
     "metadata": {},
     "output_type": "display_data"
    },
    {
     "name": "stdout",
     "output_type": "stream",
     "text": [
      "df_charity_donation raw y columnas\n"
     ]
    },
    {
     "data": {
      "text/html": [
       "<pre style=\"white-space:pre;overflow-x:auto;line-height:normal;font-family:Menlo,'DejaVu Sans Mono',consolas,'Courier New',monospace\"></pre>\n"
      ],
      "text/plain": []
     },
     "metadata": {},
     "output_type": "display_data"
    },
    {
     "data": {
      "text/plain": [
       "\u001b[1m(\u001b[0m\u001b[1;36m10000\u001b[0m, \u001b[1;36m14\u001b[0m\u001b[1m)\u001b[0m"
      ]
     },
     "execution_count": 68,
     "metadata": {},
     "output_type": "execute_result"
    }
   ],
   "source": [
    "df_charity_donation = catalog.load(\"animal_charity_donation_records\")\n",
    "\n",
    "\n",
    "\n",
    "print(\"df_charity_donation raw y columnas\")\n",
    "df_charity_donation.shape\n"
   ]
  },
  {
   "cell_type": "code",
   "execution_count": 69,
   "id": "2f27ce03-e926-4cac-aca5-5577b26e68e5",
   "metadata": {},
   "outputs": [
    {
     "name": "stdout",
     "output_type": "stream",
     "text": [
      " ANÁLISIS EXPLORATORIO - animal_charity_donation_records\n"
     ]
    },
    {
     "data": {
      "text/html": [
       "<pre style=\"white-space:pre;overflow-x:auto;line-height:normal;font-family:Menlo,'DejaVu Sans Mono',consolas,'Courier New',monospace\"></pre>\n"
      ],
      "text/plain": []
     },
     "metadata": {},
     "output_type": "display_data"
    },
    {
     "data": {
      "text/plain": [
       "\n",
       "\u001b[1;35mIndex\u001b[0m\u001b[1m(\u001b[0m\u001b[1m[\u001b[0m\u001b[32m'donor_id'\u001b[0m, \u001b[32m'age_group'\u001b[0m, \u001b[32m'gender'\u001b[0m, \u001b[32m'name'\u001b[0m, \u001b[32m'email'\u001b[0m, \u001b[32m'country'\u001b[0m,\n",
       "       \u001b[32m'donation_type'\u001b[0m, \u001b[32m'donation_amount'\u001b[0m, \u001b[32m'donation_date'\u001b[0m, \u001b[32m'payment_method'\u001b[0m,\n",
       "       \u001b[32m'newsletter_opt_in'\u001b[0m, \u001b[32m'referral_channel'\u001b[0m, \u001b[32m'sector'\u001b[0m, \u001b[32m'campaign'\u001b[0m\u001b[1m]\u001b[0m,\n",
       "      \u001b[33mdtype\u001b[0m=\u001b[32m'object'\u001b[0m\u001b[1m)\u001b[0m"
      ]
     },
     "execution_count": 69,
     "metadata": {},
     "output_type": "execute_result"
    }
   ],
   "source": [
    "# ANÁLISIS BÁSICO\n",
    "print(\" ANÁLISIS EXPLORATORIO - animal_charity_donation_records\")\n",
    "\n",
    "\n",
    "df_charity_donation.columns"
   ]
  },
  {
   "cell_type": "code",
   "execution_count": 70,
   "id": "7d0c1aeb-163f-4dc2-9acf-4efe230d1a9e",
   "metadata": {},
   "outputs": [
    {
     "name": "stdout",
     "output_type": "stream",
     "text": [
      "\n",
      "📋 INFORMACIÓN DEL DATASET:\n",
      "<class 'pandas.core.frame.DataFrame'>\n",
      "RangeIndex: 10000 entries, 0 to 9999\n",
      "Data columns (total 14 columns):\n",
      " #   Column             Non-Null Count  Dtype  \n",
      "---  ------             --------------  -----  \n",
      " 0   donor_id           10000 non-null  object \n",
      " 1   age_group          10000 non-null  object \n",
      " 2   gender             10000 non-null  object \n",
      " 3   name               10000 non-null  object \n",
      " 4   email              10000 non-null  object \n",
      " 5   country            10000 non-null  object \n",
      " 6   donation_type      10000 non-null  object \n",
      " 7   donation_amount    10000 non-null  float64\n",
      " 8   donation_date      10000 non-null  object \n",
      " 9   payment_method     10000 non-null  object \n",
      " 10  newsletter_opt_in  10000 non-null  bool   \n",
      " 11  referral_channel   10000 non-null  object \n",
      " 12  sector             10000 non-null  object \n",
      " 13  campaign           10000 non-null  object \n",
      "dtypes: bool(1), float64(1), object(12)\n",
      "memory usage: 1.0+ MB\n"
     ]
    }
   ],
   "source": [
    "# INFORMACIÓN GENERAL\n",
    "print(\"\\n📋 INFORMACIÓN DEL DATASET:\")\n",
    "df_charity_donation.info()"
   ]
  },
  {
   "cell_type": "markdown",
   "id": "0814ec59-1005-40cf-b84e-3217bb5f6893",
   "metadata": {},
   "source": [
    "### 📋 Interpretación de la estructura del dataset\n",
    "Este dataset contiene información detallada de **10,000 donantes**, con variables sociodemográficas (edad, género, país), financieras (monto y tipo de donación), canales de captación, y campañas específicas de conservación.  \n",
    "La ausencia de valores faltantes indica buena calidad de los datos, lo que permite confiar en los análisis posteriores.  \n",
    "\n",
    "👉 Variables como **age_group, country, donation_type, campaign y donation_amount** son especialmente relevantes para validar la hipótesis, ya que relacionan el perfil del donante con la magnitud y preferencia de sus aportes.\n"
   ]
  },
  {
   "cell_type": "code",
   "execution_count": 71,
   "id": "5c1be7ff-effc-4a45-a903-7cdbc9215712",
   "metadata": {},
   "outputs": [],
   "source": [
    "import pandas as pd\n",
    "import numpy as np\n",
    "import matplotlib.pyplot as plt\n",
    "import seaborn as sns\n",
    "import scipy.stats as stats\n"
   ]
  },
  {
   "cell_type": "code",
   "execution_count": 72,
   "id": "7edaf820-10fd-40e1-aa14-08ab0c313561",
   "metadata": {
    "scrolled": true
   },
   "outputs": [
    {
     "name": "stdout",
     "output_type": "stream",
     "text": [
      "\n",
      "🔎 MISSING VALUES:\n",
      "Empty DataFrame\n",
      "Columns: [Missing_Count, Missing_Percentage]\n",
      "Index: []\n"
     ]
    }
   ],
   "source": [
    "# MISSING VALUES\n",
    "print(\"\\n🔎 MISSING VALUES:\")\n",
    "missing_values = df_charity_donation.isnull().sum()\n",
    "missing_percentage = (missing_values / len(df_dog_breed)) * 100\n",
    "missing_df = pd.DataFrame({\n",
    "    'Missing_Count': missing_values,\n",
    "    'Missing_Percentage': missing_percentage\n",
    "})\n",
    "print(missing_df[missing_df['Missing_Count'] > 0])"
   ]
  },
  {
   "cell_type": "markdown",
   "id": "c6a7173b-4b8c-4971-af61-735137aad0c4",
   "metadata": {},
   "source": [
    "🔎 MISSING VALUES:\n",
    "No existen valores faltantes en ninguna de las variables → se puede analizar el dataset completo sin necesidad de imputación.\n"
   ]
  },
  {
   "cell_type": "code",
   "execution_count": 73,
   "id": "af6a338e-98b3-47ba-95be-eb5891a818bb",
   "metadata": {},
   "outputs": [
    {
     "name": "stdout",
     "output_type": "stream",
     "text": [
      "\n",
      " PRIMERAS 5 FILAS:\n"
     ]
    },
    {
     "data": {
      "text/html": [
       "<pre style=\"white-space:pre;overflow-x:auto;line-height:normal;font-family:Menlo,'DejaVu Sans Mono',consolas,'Courier New',monospace\"></pre>\n"
      ],
      "text/plain": []
     },
     "metadata": {},
     "output_type": "display_data"
    },
    {
     "data": {
      "text/html": [
       "<div>\n",
       "<style scoped>\n",
       "    .dataframe tbody tr th:only-of-type {\n",
       "        vertical-align: middle;\n",
       "    }\n",
       "\n",
       "    .dataframe tbody tr th {\n",
       "        vertical-align: top;\n",
       "    }\n",
       "\n",
       "    .dataframe thead th {\n",
       "        text-align: right;\n",
       "    }\n",
       "</style>\n",
       "<table border=\"1\" class=\"dataframe\">\n",
       "  <thead>\n",
       "    <tr style=\"text-align: right;\">\n",
       "      <th></th>\n",
       "      <th>donor_id</th>\n",
       "      <th>age_group</th>\n",
       "      <th>gender</th>\n",
       "      <th>name</th>\n",
       "      <th>email</th>\n",
       "      <th>country</th>\n",
       "      <th>donation_type</th>\n",
       "      <th>donation_amount</th>\n",
       "      <th>donation_date</th>\n",
       "      <th>payment_method</th>\n",
       "      <th>newsletter_opt_in</th>\n",
       "      <th>referral_channel</th>\n",
       "      <th>sector</th>\n",
       "      <th>campaign</th>\n",
       "    </tr>\n",
       "  </thead>\n",
       "  <tbody>\n",
       "    <tr>\n",
       "      <th>0</th>\n",
       "      <td>1a3d1fa7-bc89-40a9-a3b8-c1e9392456de</td>\n",
       "      <td>50-65</td>\n",
       "      <td>Female</td>\n",
       "      <td>Allison Hill</td>\n",
       "      <td>allison.hill40@yahoo.com</td>\n",
       "      <td>UK</td>\n",
       "      <td>Monthly</td>\n",
       "      <td>115.31</td>\n",
       "      <td>2024-10-24</td>\n",
       "      <td>Paypal</td>\n",
       "      <td>False</td>\n",
       "      <td>Website</td>\n",
       "      <td>Real Estate</td>\n",
       "      <td>Rescue Orphaned Gorillas</td>\n",
       "    </tr>\n",
       "    <tr>\n",
       "      <th>1</th>\n",
       "      <td>3b8faa18-37f8-488b-97fc-695a07a0ca6e</td>\n",
       "      <td>50-65</td>\n",
       "      <td>Female</td>\n",
       "      <td>Angie Henderson</td>\n",
       "      <td>angie.henderson758@gmail.com</td>\n",
       "      <td>USA</td>\n",
       "      <td>One-time</td>\n",
       "      <td>8.60</td>\n",
       "      <td>2024-06-21</td>\n",
       "      <td>Bank Transfer</td>\n",
       "      <td>False</td>\n",
       "      <td>Online advertising</td>\n",
       "      <td>Logistics</td>\n",
       "      <td>Rescue Orphaned Gorillas</td>\n",
       "    </tr>\n",
       "    <tr>\n",
       "      <th>2</th>\n",
       "      <td>72ff5d2a-386e-4be0-ab65-a6a48b8148f6</td>\n",
       "      <td>50-65</td>\n",
       "      <td>Female</td>\n",
       "      <td>Christina Santos</td>\n",
       "      <td>christina.santos275@gmail.com</td>\n",
       "      <td>USA</td>\n",
       "      <td>One-time</td>\n",
       "      <td>40.07</td>\n",
       "      <td>2024-08-21</td>\n",
       "      <td>Bank Transfer</td>\n",
       "      <td>False</td>\n",
       "      <td>Online advertising</td>\n",
       "      <td>Media &amp; Communication</td>\n",
       "      <td>Marine Mammal Defense Mission</td>\n",
       "    </tr>\n",
       "    <tr>\n",
       "      <th>3</th>\n",
       "      <td>47229389-571a-4876-ac30-7511b2b9437a</td>\n",
       "      <td>18-29</td>\n",
       "      <td>Male</td>\n",
       "      <td>Aaron Shaffer</td>\n",
       "      <td>aaron.shaffer1@hotmail.com</td>\n",
       "      <td>USA</td>\n",
       "      <td>One-time</td>\n",
       "      <td>45.17</td>\n",
       "      <td>2023-10-09</td>\n",
       "      <td>Bank Transfer</td>\n",
       "      <td>False</td>\n",
       "      <td>Online advertising</td>\n",
       "      <td>Government</td>\n",
       "      <td>Wildlife Rescue Van Drive</td>\n",
       "    </tr>\n",
       "    <tr>\n",
       "      <th>4</th>\n",
       "      <td>580d7b71-d8f5-4413-9be6-128e18c26797</td>\n",
       "      <td>30-49</td>\n",
       "      <td>Female</td>\n",
       "      <td>Gabrielle Davis</td>\n",
       "      <td>gabrielle.davis890@yahoo.com</td>\n",
       "      <td>UK</td>\n",
       "      <td>One-time</td>\n",
       "      <td>85.84</td>\n",
       "      <td>2024-09-01</td>\n",
       "      <td>Bank Transfer</td>\n",
       "      <td>True</td>\n",
       "      <td>Newsletter</td>\n",
       "      <td>Science &amp; Research</td>\n",
       "      <td>Habitat for Hope</td>\n",
       "    </tr>\n",
       "  </tbody>\n",
       "</table>\n",
       "</div>"
      ],
      "text/plain": [
       "\n",
       "                               donor_id age_group  gender              name  \\\n",
       "\u001b[1;36m0\u001b[0m  \u001b[93m1a3d1fa7-bc89-40a9-a3b8-c1e9392456de\u001b[0m     \u001b[1;36m50\u001b[0m-\u001b[1;36m65\u001b[0m  Female      Allison Hill   \n",
       "\u001b[1;36m1\u001b[0m  \u001b[93m3b8faa18-37f8-488b-97fc-695a07a0ca6e\u001b[0m     \u001b[1;36m50\u001b[0m-\u001b[1;36m65\u001b[0m  Female   Angie Henderson   \n",
       "\u001b[1;36m2\u001b[0m  \u001b[93m72ff5d2a-386e-4be0-ab65-a6a48b8148f6\u001b[0m     \u001b[1;36m50\u001b[0m-\u001b[1;36m65\u001b[0m  Female  Christina Santos   \n",
       "\u001b[1;36m3\u001b[0m  \u001b[93m47229389-571a-4876-ac30-7511b2b9437a\u001b[0m     \u001b[1;36m18\u001b[0m-\u001b[1;36m29\u001b[0m    Male     Aaron Shaffer   \n",
       "\u001b[1;36m4\u001b[0m  \u001b[93m580d7b71-d8f5-4413-9be6-128e18c26797\u001b[0m     \u001b[1;36m30\u001b[0m-\u001b[1;36m49\u001b[0m  Female   Gabrielle Davis   \n",
       "\n",
       "                           email country donation_type  donation_amount  \\\n",
       "\u001b[1;36m0\u001b[0m       allison.hill40@yahoo.com      UK       Monthly           \u001b[1;36m115.31\u001b[0m   \n",
       "\u001b[1;36m1\u001b[0m   angie.henderson758@gmail.com     USA      One-time             \u001b[1;36m8.60\u001b[0m   \n",
       "\u001b[1;36m2\u001b[0m  christina.santos275@gmail.com     USA      One-time            \u001b[1;36m40.07\u001b[0m   \n",
       "\u001b[1;36m3\u001b[0m     aaron.shaffer1@hotmail.com     USA      One-time            \u001b[1;36m45.17\u001b[0m   \n",
       "\u001b[1;36m4\u001b[0m   gabrielle.davis890@yahoo.com      UK      One-time            \u001b[1;36m85.84\u001b[0m   \n",
       "\n",
       "  donation_date payment_method  newsletter_opt_in    referral_channel  \\\n",
       "\u001b[1;36m0\u001b[0m    \u001b[1;36m2024\u001b[0m-\u001b[1;36m10\u001b[0m-\u001b[1;36m24\u001b[0m         Paypal              \u001b[3;91mFalse\u001b[0m             Website   \n",
       "\u001b[1;36m1\u001b[0m    \u001b[1;36m2024\u001b[0m-\u001b[1;36m06\u001b[0m-\u001b[1;36m21\u001b[0m  Bank Transfer              \u001b[3;91mFalse\u001b[0m  Online advertising   \n",
       "\u001b[1;36m2\u001b[0m    \u001b[1;36m2024\u001b[0m-\u001b[1;36m08\u001b[0m-\u001b[1;36m21\u001b[0m  Bank Transfer              \u001b[3;91mFalse\u001b[0m  Online advertising   \n",
       "\u001b[1;36m3\u001b[0m    \u001b[1;36m2023\u001b[0m-\u001b[1;36m10\u001b[0m-\u001b[1;36m09\u001b[0m  Bank Transfer              \u001b[3;91mFalse\u001b[0m  Online advertising   \n",
       "\u001b[1;36m4\u001b[0m    \u001b[1;36m2024\u001b[0m-\u001b[1;36m09\u001b[0m-\u001b[1;36m01\u001b[0m  Bank Transfer               \u001b[3;92mTrue\u001b[0m          Newsletter   \n",
       "\n",
       "                  sector                       campaign  \n",
       "\u001b[1;36m0\u001b[0m            Real Estate       Rescue Orphaned Gorillas  \n",
       "\u001b[1;36m1\u001b[0m              Logistics       Rescue Orphaned Gorillas  \n",
       "\u001b[1;36m2\u001b[0m  Media & Communication  Marine Mammal Defense Mission  \n",
       "\u001b[1;36m3\u001b[0m             Government      Wildlife Rescue Van Drive  \n",
       "\u001b[1;36m4\u001b[0m     Science & Research               Habitat for Hope  "
      ]
     },
     "execution_count": 73,
     "metadata": {},
     "output_type": "execute_result"
    }
   ],
   "source": [
    "# PRIMERAS FILAS\n",
    "print(\"\\n PRIMERAS 5 FILAS:\")\n",
    "df_charity_donation.head()"
   ]
  },
  {
   "cell_type": "code",
   "execution_count": null,
   "id": "40df2759-6e85-4243-8484-6fcce9a095bc",
   "metadata": {},
   "outputs": [],
   "source": []
  },
  {
   "cell_type": "code",
   "execution_count": 74,
   "id": "de8763be-810a-4e2b-a07f-dab9e0c153bd",
   "metadata": {},
   "outputs": [
    {
     "name": "stdout",
     "output_type": "stream",
     "text": [
      "\n",
      "📈 ESTADÍSTICAS NUMÉRICAS:\n",
      "       donation_amount\n",
      "count     10000.000000\n",
      "mean         51.696998\n",
      "std          56.745420\n",
      "min           0.550000\n",
      "25%          12.070000\n",
      "50%          28.110000\n",
      "75%          71.592500\n",
      "max         702.930000\n"
     ]
    }
   ],
   "source": [
    "# ESTADÍSTICAS DESCRIPTIVAS\n",
    "print(\"\\n📈 ESTADÍSTICAS NUMÉRICAS:\")\n",
    "numeric_cols = df_charity_donation.select_dtypes(include=[np.number]).columns\n",
    "if len(numeric_cols) > 0:\n",
    "    print(df_charity_donation[numeric_cols].describe())\n",
    "else:\n",
    "    print(\"No hay columnas numéricas\")"
   ]
  },
  {
   "cell_type": "markdown",
   "id": "acdf34fe-0225-4cef-9174-3e066bc66f93",
   "metadata": {},
   "source": [
    "📈 ESTADÍSTICAS NUMÉRICAS:\n",
    "- **Monto promedio donado**: 51.7 USD  \n",
    "- **Desviación estándar**: 56.7 (indica alta dispersión)  \n",
    "- **Máximo**: 703 USD → presencia de **outliers positivos**  \n",
    "- **Mínimo**: 1 USD  \n",
    "\n",
    "👉 La distribución es asimétrica con sesgo positivo (pocos grandes donantes).\n"
   ]
  },
  {
   "cell_type": "code",
   "execution_count": 75,
   "id": "fa7520ad-c5a3-412a-bd5a-77019b40ab76",
   "metadata": {},
   "outputs": [
    {
     "name": "stdout",
     "output_type": "stream",
     "text": [
      "\n",
      "🎯 VARIABLES CATEGÓRICAS:\n",
      "\n",
      "donor_id:\n",
      "donor_id\n",
      "f0b2d9c0-1ced-43dd-ac42-df3eb375d09b    1\n",
      "471b024a-39d3-42d5-84bb-95d1960b0c5e    1\n",
      "7701a54f-6fa8-4c71-92f4-329f8c94ff05    1\n",
      "7a45b2b6-0e3f-4cd0-b3a9-3b0e95a4fefc    1\n",
      "3bb77cfa-c36f-49c4-a176-a48353cc8405    1\n",
      "                                       ..\n",
      "580d7b71-d8f5-4413-9be6-128e18c26797    1\n",
      "47229389-571a-4876-ac30-7511b2b9437a    1\n",
      "72ff5d2a-386e-4be0-ab65-a6a48b8148f6    1\n",
      "3b8faa18-37f8-488b-97fc-695a07a0ca6e    1\n",
      "1a3d1fa7-bc89-40a9-a3b8-c1e9392456de    1\n",
      "Name: count, Length: 10000, dtype: int64\n",
      "Valores únicos: 10000\n",
      "\n",
      "age_group:\n",
      "age_group\n",
      "30-49    4011\n",
      "50-65    3401\n",
      "18-29    1432\n",
      "66-80    1156\n",
      "Name: count, dtype: int64\n",
      "Valores únicos: 4\n",
      "\n",
      "gender:\n",
      "gender\n",
      "Male      4908\n",
      "Female    4697\n",
      "Other      395\n",
      "Name: count, dtype: int64\n",
      "Valores únicos: 3\n",
      "\n",
      "name:\n",
      "name\n",
      "Matthew Williams    5\n",
      "David Johnson       5\n",
      "John Williams       5\n",
      "Ashley Smith        5\n",
      "Daniel Smith        5\n",
      "                   ..\n",
      "Edwin Fowler        1\n",
      "Sherri Baker        1\n",
      "Derek Davidson      1\n",
      "Wesley Valencia     1\n",
      "William Daniels     1\n",
      "Name: count, Length: 9388, dtype: int64\n",
      "Valores únicos: 9388\n",
      "\n",
      "email:\n",
      "email\n",
      "matthew.brown5@outlook.com            2\n",
      "maria.simmons71@charitymail.org       1\n",
      "katherine.jones37@hotmail.com         1\n",
      "rebecca.henderson576@yahoo.com        1\n",
      "scott.williams654@yahoo.com           1\n",
      "                                     ..\n",
      "james.yates693@outlook.com            1\n",
      "anthony.sanders542@charitymail.org    1\n",
      "megan.cruz671@charitymail.org         1\n",
      "susan.riggs559@charitymail.org        1\n",
      "michael.mcguire177@outlook.com        1\n",
      "Name: count, Length: 9999, dtype: int64\n",
      "Valores únicos: 9999\n",
      "\n",
      "country:\n",
      "country\n",
      "USA             2146\n",
      "UK              1380\n",
      "France          1103\n",
      "Germany          998\n",
      "Canada           844\n",
      "Australia        650\n",
      "South Africa     523\n",
      "New Zealand      508\n",
      "India            504\n",
      "Brazil           490\n",
      "Netherlands      476\n",
      "Finland          378\n",
      "Name: count, dtype: int64\n",
      "Valores únicos: 12\n",
      "\n",
      "donation_type:\n",
      "donation_type\n",
      "One-time    7085\n",
      "Monthly     2915\n",
      "Name: count, dtype: int64\n",
      "Valores únicos: 2\n",
      "\n",
      "donation_date:\n",
      "donation_date\n",
      "2024-02-16    28\n",
      "2024-09-05    27\n",
      "2025-01-28    25\n",
      "2023-12-01    24\n",
      "2025-01-09    23\n",
      "              ..\n",
      "2024-03-02     5\n",
      "2024-09-20     5\n",
      "2024-12-17     5\n",
      "2024-04-23     4\n",
      "2024-01-28     4\n",
      "Name: count, Length: 731, dtype: int64\n",
      "Valores únicos: 731\n",
      "\n",
      "payment_method:\n",
      "payment_method\n",
      "Paypal           2576\n",
      "Bank Transfer    2494\n",
      "Credit Card      2477\n",
      "Cheque           2453\n",
      "Name: count, dtype: int64\n",
      "Valores únicos: 4\n",
      "\n",
      "referral_channel:\n",
      "referral_channel\n",
      "Word of mouth         1788\n",
      "Newsletter            1659\n",
      "Website               1654\n",
      "Local event           1653\n",
      "Online advertising    1639\n",
      "Social Media          1607\n",
      "Name: count, dtype: int64\n",
      "Valores únicos: 6\n",
      "\n",
      "sector:\n",
      "sector\n",
      "Law                      507\n",
      "Construction             505\n",
      "Logistics                498\n",
      "Arts & Culture           495\n",
      "Nonprofit                491\n",
      "Healthcare               486\n",
      "Finance/Banking          486\n",
      "Education                482\n",
      "Government               479\n",
      "Retail                   477\n",
      "Others                   475\n",
      "Consulting               475\n",
      "Media & Communication    473\n",
      "Technology               470\n",
      "Real Estate              467\n",
      "Science & Research       464\n",
      "Agriculture              461\n",
      "Environment              455\n",
      "Energy                   453\n",
      "Hospitality              452\n",
      "Pharmaceuticals          449\n",
      "Name: count, dtype: int64\n",
      "Valores únicos: 21\n",
      "\n",
      "campaign:\n",
      "campaign\n",
      "Marine Mammal Defense Mission    1461\n",
      "Rescue Orphaned Gorillas         1447\n",
      "Jungle Education Project         1446\n",
      "Defend the Great Apes            1436\n",
      "Habitat for Hope                 1416\n",
      "Wildlife Rescue Van Drive        1415\n",
      "Reforest the Sanctuary           1379\n",
      "Name: count, dtype: int64\n",
      "Valores únicos: 7\n"
     ]
    }
   ],
   "source": [
    "# VARIABLES CATEGÓRICAS\n",
    "print(\"\\n🎯 VARIABLES CATEGÓRICAS:\")\n",
    "categorical_cols = df_charity_donation.select_dtypes(include=['object']).columns\n",
    "for col in categorical_cols:\n",
    "    print(f\"\\n{col}:\")\n",
    "    print(df_charity_donation[col].value_counts())\n",
    "    print(f\"Valores únicos: {df_charity_donation[col].nunique()}\")"
   ]
  },
  {
   "cell_type": "markdown",
   "id": "d689946e-e159-436f-9949-f40003a3d09f",
   "metadata": {},
   "source": [
    "🎯 VARIABLES CATEGÓRICAS:\n",
    "- **age_group**: distribuido entre jóvenes (18–29) y adultos mayores (50–65).  \n",
    "- **gender**: relativamente balanceado entre masculino y femenino.  \n",
    "- **country**: fuerte representación de EE.UU., Reino Unido, Francia y Alemania.  \n",
    "- **donation_type**: predominan donantes únicos sobre recurrentes.  \n",
    "- **campaign**: varias campañas activas con aportes similares en promedio.\n"
   ]
  },
  {
   "cell_type": "code",
   "execution_count": 76,
   "id": "44d1e5f4-d2ae-4dab-be83-97f07ec1bd87",
   "metadata": {},
   "outputs": [
    {
     "name": "stdout",
     "output_type": "stream",
     "text": [
      "💵 DONACIONES PROMEDIO POR PAÍS:\n",
      "                   mean        sum  count\n",
      "country                                  \n",
      "India         54.028294   27230.26    504\n",
      "Germany       53.826323   53718.67    998\n",
      "Netherlands   53.223634   25334.45    476\n",
      "USA           52.178458  111974.97   2146\n",
      "Canada        51.998460   43886.70    844\n",
      "South Africa  51.658967   27017.64    523\n",
      "Australia     51.631585   33560.53    650\n",
      "France        51.103182   56366.81   1103\n",
      "UK            50.994217   70372.02   1380\n",
      "Finland       50.060794   18922.98    378\n",
      "Brazil        49.270204   24142.40    490\n",
      "New Zealand   48.115256   24442.55    508\n"
     ]
    }
   ],
   "source": [
    "# 1. RELACIÓN DONACIONES-PAÍS (inversión por ubicación)\n",
    "print(\"💵 DONACIONES PROMEDIO POR PAÍS:\")\n",
    "donation_by_country = df_charity_donation.groupby('country')['donation_amount'].agg(['mean', 'sum', 'count'])\n",
    "print(donation_by_country.sort_values('mean', ascending=False))"
   ]
  },
  {
   "cell_type": "markdown",
   "id": "1bc22d81-596b-4e2c-82e8-271cca4c66e2",
   "metadata": {},
   "source": [
    "💵 DONACIONES PROMEDIO POR PAÍS:\n",
    "- **EE.UU., Reino Unido, Francia y Alemania** → mayor volumen absoluto de donaciones.  \n",
    "- **India y Alemania** → mayores montos promedio por donante.  \n",
    "\n",
    "👉 La variable país refleja diferencias tanto en capacidad económica como en cultura de donación.\n"
   ]
  },
  {
   "cell_type": "code",
   "execution_count": 77,
   "id": "6f332723-a4e8-44b0-93d5-ea4e1b20cf45",
   "metadata": {},
   "outputs": [
    {
     "name": "stdout",
     "output_type": "stream",
     "text": [
      "\n",
      "💰 TIPO DE DONACIÓN VS MONTO:\n",
      "                     mean        sum  count\n",
      "donation_type                              \n",
      "Monthly        100.013822  291540.29   2915\n",
      "One-time        31.817881  225429.69   7085\n"
     ]
    }
   ],
   "source": [
    "# 2. TIPOS DE DONACIÓN Y MONTO\n",
    "print(\"\\n💰 TIPO DE DONACIÓN VS MONTO:\")\n",
    "donation_by_type = df_dog_breed.groupby('donation_type')['donation_amount'].agg(['mean', 'sum', 'count'])\n",
    "print(donation_by_type)"
   ]
  },
  {
   "cell_type": "markdown",
   "id": "2f1408ac-fdf9-4b84-b0af-24fdfe27be8c",
   "metadata": {},
   "source": []
  },
  {
   "cell_type": "markdown",
   "id": "32584963-ff99-4b8f-8854-b0e34cd02ea7",
   "metadata": {},
   "source": [
    "💰 TIPO DE DONACIÓN VS MONTO:\n",
    "- **Mensuales**: promedio ≈ 100 USD  \n",
    "- **Únicas**: promedio ≈ 31.8 USD  \n",
    "\n",
    "👉 El tipo de donación es un fuerte predictor del monto total aportado.\n"
   ]
  },
  {
   "cell_type": "code",
   "execution_count": 78,
   "id": "0559ffcc-d29c-4379-9775-6a90e661b2fc",
   "metadata": {},
   "outputs": [
    {
     "name": "stdout",
     "output_type": "stream",
     "text": [
      "\n",
      "🎯 CAMPAÑAS Y MONTO RECAUDADO:\n",
      "                                    mean       sum  count\n",
      "campaign                                                 \n",
      "Defend the Great Apes          53.554896  76904.83   1436\n",
      "Jungle Education Project       52.250768  75554.61   1446\n",
      "Wildlife Rescue Van Drive      52.925385  74889.42   1415\n",
      "Rescue Orphaned Gorillas       51.403359  74380.66   1447\n",
      "Marine Mammal Defense Mission  49.676030  72576.68   1461\n",
      "Reforest the Sanctuary         51.868202  71526.25   1379\n",
      "Habitat for Hope               50.238369  71137.53   1416\n"
     ]
    }
   ],
   "source": [
    "# 3. CAMPAÑAS MÁS POPULARES (enfoque de bienestar)\n",
    "print(\"\\n🎯 CAMPAÑAS Y MONTO RECAUDADO:\")\n",
    "campaign_stats = df_charity_donation.groupby('campaign')['donation_amount'].agg(['mean', 'sum', 'count'])\n",
    "print(campaign_stats.sort_values('sum', ascending=False))"
   ]
  },
  {
   "cell_type": "markdown",
   "id": "dcc136fc-8c85-4b37-9432-d1d3dbb616e8",
   "metadata": {},
   "source": [
    "🎯 CAMPAÑAS Y MONTO RECAUDADO:\n",
    "- Montos promedio similares (≈ 50–53 USD).  \n",
    "- Diferencias notorias en volumen total: *Defend the Great Apes* supera los 76k USD.  \n",
    "\n",
    "👉 El éxito de la campaña depende más de su alcance/engagement que del monto individual.\n"
   ]
  },
  {
   "cell_type": "code",
   "execution_count": 79,
   "id": "9d166522-5c2b-4dec-9b0a-7fdf0e938f4b",
   "metadata": {},
   "outputs": [
    {
     "name": "stdout",
     "output_type": "stream",
     "text": [
      "\n",
      "👥 EDAD DE DONANTES VS DONACIÓN:\n",
      "                mean        sum  count\n",
      "age_group                             \n",
      "50-65      63.354449  215468.48   3401\n",
      "30-49      51.950155  208372.07   4011\n",
      "66-80      48.532751   56103.86   1156\n",
      "18-29      25.855845   37025.57   1432\n"
     ]
    }
   ],
   "source": [
    "# 4. EDAD DE DONANTES VS MONTO\n",
    "print(\"\\n👥 EDAD DE DONANTES VS DONACIÓN:\")\n",
    "age_donation = df_charity_donation.groupby('age_group')['donation_amount'].agg(['mean', 'sum', 'count'])\n",
    "print(age_donation.sort_values('mean', ascending=False))"
   ]
  },
  {
   "cell_type": "markdown",
   "id": "eb3e520e-e94c-4d7b-9c51-8f9be33bb786",
   "metadata": {},
   "source": [
    "👥 EDAD DE DONANTES VS DONACIÓN:\n",
    "- **50–65 años** → mayor aporte promedio (≈63 USD).  \n",
    "- **18–29 años** → menor aporte promedio (≈26 USD).  \n",
    "\n",
    "👉 La edad influye en la capacidad de aporte: adultos mayores contribuyen más significativamente.\n"
   ]
  },
  {
   "cell_type": "code",
   "execution_count": 80,
   "id": "d90f8ce7-6c0f-43b6-a8c5-c56b043b541a",
   "metadata": {},
   "outputs": [
    {
     "name": "stdout",
     "output_type": "stream",
     "text": [
      "📊 CORRELACIÓN EDAD-TIPO-DONACIÓN:\n",
      "                       age_numeric  donation_type_numeric  donation_amount\n",
      "age_numeric               1.000000               0.007834         0.139942\n",
      "donation_type_numeric     0.007834               1.000000         0.546184\n",
      "donation_amount           0.139942               0.546184         1.000000\n"
     ]
    }
   ],
   "source": [
    "# ¿Hay relación entre edad, tipo de donación y monto?\n",
    "print(\"📊 CORRELACIÓN EDAD-TIPO-DONACIÓN:\")\n",
    "\n",
    "# Crear variable numérica para edad\n",
    "age_mapping = {'18-29': 1, '30-49': 2, '50-65': 3, '66-80': 4}\n",
    "df_charity_donation['age_numeric'] = df_dog_breed['age_group'].map(age_mapping)\n",
    "\n",
    "# Crear variable numérica para tipo de donación\n",
    "type_mapping = {'One-time': 0, 'Monthly': 1}\n",
    "df_charity_donation['donation_type_numeric'] = df_dog_breed['donation_type'].map(type_mapping)\n",
    "\n",
    "# Matriz de correlación\n",
    "correlation_matrix = df_charity_donation[['age_numeric', 'donation_type_numeric', 'donation_amount']].corr()\n",
    "print(correlation_matrix)"
   ]
  },
  {
   "cell_type": "markdown",
   "id": "e1c8915c-443f-41bf-8016-5ab5d6f3c722",
   "metadata": {},
   "source": [
    "📊 CORRELACIÓN EDAD-TIPO-DONACIÓN:\n",
    "- **donation_type ↔ donation_amount**: r ≈ 0.54 (fuerte).  \n",
    "- **edad ↔ donation_amount**: r ≈ 0.14 (débil pero positiva).  \n",
    "\n",
    "👉 Valida la hipótesis: la recurrencia y la edad ayudan a explicar la magnitud de apoyo.\n"
   ]
  },
  {
   "cell_type": "code",
   "execution_count": 81,
   "id": "00d2ba7a-2ea6-4ad9-b817-e4d62e5831d4",
   "metadata": {},
   "outputs": [
    {
     "name": "stdout",
     "output_type": "stream",
     "text": [
      "🔑 VARIABLES CLAVE PARA HIPÓTESIS:\n",
      "country: 12 valores únicos\n",
      "campaign: 7 valores únicos\n",
      "donation_amount: 6366 valores únicos\n",
      "donation_type: 2 valores únicos\n",
      "age_group: 4 valores únicos\n"
     ]
    }
   ],
   "source": [
    "# Variables clave para tu hipótesis final\n",
    "print(\"🔑 VARIABLES CLAVE PARA HIPÓTESIS:\")\n",
    "key_vars = ['country', 'campaign', 'donation_amount', 'donation_type', 'age_group']\n",
    "for var in key_vars:\n",
    "    print(f\"{var}: {df_charity_donation[var].nunique()} valores únicos\")"
   ]
  },
  {
   "cell_type": "markdown",
   "id": "31b78bfe-5c28-47bc-b759-da63b05ee4d3",
   "metadata": {},
   "source": [
    "🔑 VARIABLES CLAVE PARA HIPÓTESIS:\n",
    "- **País**: diferencia en capacidad de donación.  \n",
    "- **Edad**: donantes mayores = más aportes.  \n",
    "- **Tipo de donación**: predictor más fuerte del monto total.  \n",
    "- **Campaña**: refleja capacidad de movilización.\n"
   ]
  },
  {
   "cell_type": "code",
   "execution_count": 82,
   "id": "1583e6d1-9b4e-4570-aa39-151901204c26",
   "metadata": {},
   "outputs": [
    {
     "name": "stdout",
     "output_type": "stream",
     "text": [
      "🌎 INVERSIÓN POR PAÍS Y CAMPAÑA:\n",
      "campaign      Defend the Great Apes  Habitat for Hope  \\\n",
      "country                                                 \n",
      "Australia                   5879.67           4689.18   \n",
      "Brazil                      4008.98           3014.85   \n",
      "Canada                      6720.92           6600.93   \n",
      "Finland                     3273.07           2219.23   \n",
      "France                      9360.88           8337.23   \n",
      "Germany                     8083.07           6926.54   \n",
      "India                       3657.06           3574.93   \n",
      "Netherlands                 2892.00           3437.60   \n",
      "New Zealand                 3416.01           4007.46   \n",
      "South Africa                2898.09           4581.16   \n",
      "UK                          7878.08           8327.96   \n",
      "USA                        18837.00          15420.46   \n",
      "\n",
      "campaign      Jungle Education Project  Marine Mammal Defense Mission  \\\n",
      "country                                                                 \n",
      "Australia                      3673.90                        4709.13   \n",
      "Brazil                         3065.96                        3758.81   \n",
      "Canada                         7608.98                        6413.66   \n",
      "Finland                        2667.83                        2444.03   \n",
      "France                         6217.69                        7677.25   \n",
      "Germany                        8939.69                        7226.49   \n",
      "India                          4989.53                        4593.66   \n",
      "Netherlands                    2851.73                        3797.11   \n",
      "New Zealand                    2875.80                        2997.51   \n",
      "South Africa                   3848.94                        3956.47   \n",
      "UK                            11436.57                       10968.82   \n",
      "USA                           17377.99                       14033.74   \n",
      "\n",
      "campaign      Reforest the Sanctuary  Rescue Orphaned Gorillas  \\\n",
      "country                                                          \n",
      "Australia                    4775.51                   4320.72   \n",
      "Brazil                       3159.55                   3124.97   \n",
      "Canada                       6012.92                   5167.02   \n",
      "Finland                      3005.03                   1825.58   \n",
      "France                       8396.41                   8203.00   \n",
      "Germany                      7768.08                   7119.74   \n",
      "India                        3936.47                   2785.06   \n",
      "Netherlands                  4448.24                   4160.85   \n",
      "New Zealand                  3809.36                   4666.07   \n",
      "South Africa                 2845.49                   4490.56   \n",
      "UK                           8928.77                  12854.51   \n",
      "USA                         14440.42                  15662.58   \n",
      "\n",
      "campaign      Wildlife Rescue Van Drive  \n",
      "country                                  \n",
      "Australia                       5512.42  \n",
      "Brazil                          4009.28  \n",
      "Canada                          5362.27  \n",
      "Finland                         3488.21  \n",
      "France                          8174.35  \n",
      "Germany                         7655.06  \n",
      "India                           3693.55  \n",
      "Netherlands                     3746.92  \n",
      "New Zealand                     2670.34  \n",
      "South Africa                    4396.93  \n",
      "UK                              9977.31  \n",
      "USA                            16202.78  \n"
     ]
    }
   ],
   "source": [
    "# Inversión por país y campaña\n",
    "print(\"🌎 INVERSIÓN POR PAÍS Y CAMPAÑA:\")\n",
    "country_campaign = df_charity_donation.groupby(['country', 'campaign'])['donation_amount'].sum().unstack()\n",
    "print(country_campaign)"
   ]
  },
  {
   "cell_type": "markdown",
   "id": "c7ac8287-7a0c-4aef-91ab-dc9c5c947571",
   "metadata": {},
   "source": [
    "🌎 INVERSIÓN POR PAÍS Y CAMPAÑA:\n",
    "EE.UU. y Reino Unido concentran las mayores recaudaciones absolutas, mientras que campañas como *Save the Rainforest* y *Defend the Great Apes* destacan por volumen total.  \n",
    "Esto muestra la importancia de segmentar estrategias por región y campaña.\n"
   ]
  },
  {
   "cell_type": "code",
   "execution_count": 83,
   "id": "dc6c4304-b536-4bdb-a98f-d0d9cdcd2952",
   "metadata": {},
   "outputs": [
    {
     "name": "stdout",
     "output_type": "stream",
     "text": [
      "🔍 ANÁLISIS DE OUTLIERS - donation_amount:\n",
      "Valores únicos: 6366\n",
      "Outliers: 740 (7.40%)\n",
      "Rango normal: [-77.21, 160.88]\n",
      "Valor máximo: 702.93\n"
     ]
    }
   ],
   "source": [
    "# 1. DETECCIÓN DE OUTLIERS EN DONATION_AMOUNT\n",
    "print(\"🔍 ANÁLISIS DE OUTLIERS - donation_amount:\")\n",
    "print(f\"Valores únicos: {df_charity_donation['donation_amount'].nunique()}\")\n",
    "\n",
    "Q1 = df_charity_donation['donation_amount'].quantile(0.25)\n",
    "Q3 = df_charity_donation['donation_amount'].quantile(0.75)\n",
    "IQR = Q3 - Q1\n",
    "lower_bound = Q1 - 1.5 * IQR\n",
    "upper_bound = Q3 + 1.5 * IQR\n",
    "\n",
    "outliers = df_charity_donation[(df_charity_donation['donation_amount'] < lower_bound) | \n",
    "                       (df_charity_donation['donation_amount'] > upper_bound)]\n",
    "print(f\"Outliers: {len(outliers)} ({len(outliers)/len(df_dog_breed)*100:.2f}%)\")\n",
    "print(f\"Rango normal: [{lower_bound:.2f}, {upper_bound:.2f}]\")\n",
    "print(f\"Valor máximo: {df_charity_donation['donation_amount'].max():.2f}\")"
   ]
  },
  {
   "cell_type": "markdown",
   "id": "3f434cc7-ccdb-4b29-9d31-45a60235af87",
   "metadata": {},
   "source": [
    "🔍 ANÁLISIS DE OUTLIERS - donation_amount:\n",
    "Se detectan valores extremos (≥ 500 USD).  \n",
    "Estos representan donantes excepcionales que elevan el promedio, aunque la mayoría dona ≤ 50 USD.\n"
   ]
  },
  {
   "cell_type": "code",
   "execution_count": 84,
   "id": "b51fe4c4-8e92-407e-8b9e-319243cd6a40",
   "metadata": {},
   "outputs": [
    {
     "name": "stdout",
     "output_type": "stream",
     "text": [
      "\n",
      "📊 DISTRIBUCIÓN DE DONACIONES:\n",
      "count    10000.000000\n",
      "mean        51.696998\n",
      "std         56.745420\n",
      "min          0.550000\n",
      "25%         12.070000\n",
      "50%         28.110000\n",
      "75%         71.592500\n",
      "max        702.930000\n",
      "Name: donation_amount, dtype: float64\n"
     ]
    },
    {
     "data": {
      "text/html": [
       "<pre style=\"white-space:pre;overflow-x:auto;line-height:normal;font-family:Menlo,'DejaVu Sans Mono',consolas,'Courier New',monospace\"></pre>\n"
      ],
      "text/plain": []
     },
     "metadata": {},
     "output_type": "display_data"
    },
    {
     "data": {
      "image/png": "[encoded data removed]",
      "text/plain": [
       "\u001b[1m<\u001b[0m\u001b[1;95mFigure\u001b[0m\u001b[39m size 100\u001b[0m\u001b[1;36m0x600\u001b[0m\u001b[39m with \u001b[0m\u001b[1;36m2\u001b[0m\u001b[39m Axes\u001b[0m\u001b[1m>\u001b[0m"
      ]
     },
     "metadata": {},
     "output_type": "display_data"
    }
   ],
   "source": [
    "# 2. DISTRIBUCIÓN DE DONATION_AMOUNT\n",
    "print(\"\\n📊 DISTRIBUCIÓN DE DONACIONES:\")\n",
    "print(df_charity_donation['donation_amount'].describe())\n",
    "\n",
    "plt.figure(figsize=(10, 6))\n",
    "plt.subplot(1, 2, 1)\n",
    "sns.boxplot(y=df_charity_donation['donation_amount'])\n",
    "plt.title('Boxplot - Donation Amount')\n",
    "\n",
    "plt.subplot(1, 2, 2)\n",
    "sns.histplot(df_charity_donation['donation_amount'], bins=50, kde=True)\n",
    "plt.title('Histogram - Donation Amount')\n",
    "plt.tight_layout()\n",
    "plt.show()"
   ]
  },
  {
   "cell_type": "markdown",
   "id": "1433ecde-488c-46ff-94bf-940ba061bde1",
   "metadata": {},
   "source": [
    "📊 DISTRIBUCIÓN DE DONACIONES:\n",
    "Distribución fuertemente sesgada a la derecha.  \n",
    "La mayoría dona poco, con pocos casos de donaciones muy altas.\n"
   ]
  },
  {
   "cell_type": "code",
   "execution_count": 85,
   "id": "fa9d2ea1-7eff-4603-9148-6a8ff1747eaa",
   "metadata": {},
   "outputs": [
    {
     "name": "stdout",
     "output_type": "stream",
     "text": [
      "🔎 VALORES NEGATIVOS/INVÁLIDOS:\n",
      "Valores negativos: 0\n",
      "Valores cero: 0\n",
      "Valores mínimos: [0.55 0.64 0.67 0.67 0.67]\n"
     ]
    }
   ],
   "source": [
    "# 3. VERIFICAR VALORES NEGATIVOS O INVÁLIDOS\n",
    "print(\"🔎 VALORES NEGATIVOS/INVÁLIDOS:\")\n",
    "print(f\"Valores negativos: {(df_charity_donation['donation_amount'] < 0).sum()}\")\n",
    "print(f\"Valores cero: {(df_charity_donation['donation_amount'] == 0).sum()}\")\n",
    "print(f\"Valores mínimos: {df_charity_donation['donation_amount'].nsmallest(5).values}\")"
   ]
  },
  {
   "cell_type": "markdown",
   "id": "2dd1165d-9852-4afc-85c8-8cd0fd492e92",
   "metadata": {},
   "source": [
    "🔎 VALORES NEGATIVOS/INVÁLIDOS:\n",
    "No existen montos negativos ni inválidos.  \n",
    "Todos los registros corresponden a donaciones reales y válidas.\n"
   ]
  },
  {
   "cell_type": "code",
   "execution_count": 86,
   "id": "aa8fd899-ff2a-449a-8287-a18a981d5799",
   "metadata": {},
   "outputs": [
    {
     "name": "stdout",
     "output_type": "stream",
     "text": [
      "\n",
      "📈 ANÁLISIS DE NORMALIDAD:\n",
      "Skewness: 1.870 (>1 = muy sesgado)\n",
      "Kurtosis: 5.596 (>3 = colas pesadas)\n"
     ]
    },
    {
     "data": {
      "text/html": [
       "<pre style=\"white-space:pre;overflow-x:auto;line-height:normal;font-family:Menlo,'DejaVu Sans Mono',consolas,'Courier New',monospace\"></pre>\n"
      ],
      "text/plain": []
     },
     "metadata": {},
     "output_type": "display_data"
    },
    {
     "data": {
      "image/png": "[encoded data removed]",
      "text/plain": [
       "\u001b[1m<\u001b[0m\u001b[1;95mFigure\u001b[0m\u001b[39m size 80\u001b[0m\u001b[1;36m0x600\u001b[0m\u001b[39m with \u001b[0m\u001b[1;36m1\u001b[0m\u001b[39m Axes\u001b[0m\u001b[1m>\u001b[0m"
      ]
     },
     "metadata": {},
     "output_type": "display_data"
    }
   ],
   "source": [
    "# 4. ANÁLISIS DE NORMALIDAD\n",
    "print(\"\\n📈 ANÁLISIS DE NORMALIDAD:\")\n",
    "skewness = df_charity_donation['donation_amount'].skew()\n",
    "kurtosis = df_charity_donation['donation_amount'].kurtosis()\n",
    "print(f\"Skewness: {skewness:.3f} (>{1} = muy sesgado)\")\n",
    "print(f\"Kurtosis: {kurtosis:.3f} (>{3} = colas pesadas)\")\n",
    "\n",
    "# Q-Q Plot\n",
    "plt.figure(figsize=(8, 6))\n",
    "stats.probplot(df_charity_donation['donation_amount'], dist=\"norm\", plot=plt)\n",
    "plt.title('Q-Q Plot - Donation Amount')\n",
    "plt.show()"
   ]
  },
  {
   "cell_type": "markdown",
   "id": "1682632e-aa29-483b-8699-724b54078bc6",
   "metadata": {},
   "source": [
    "📈 ANÁLISIS DE NORMALIDAD:\n",
    "La variable `donation_amount` **no sigue distribución normal**.  \n",
    "Presenta sesgo positivo → se requerirá transformación logarítmica si se usan modelos paramétricos.\n"
   ]
  },
  {
   "cell_type": "code",
   "execution_count": 87,
   "id": "0be64689-8307-4084-8a4e-31ba2bd569eb",
   "metadata": {},
   "outputs": [
    {
     "name": "stdout",
     "output_type": "stream",
     "text": [
      "\n",
      "📅 ANÁLISIS DE FECHAS:\n",
      "Rango fechas: 2023-06-18 00:00:00 to 2025-06-17 00:00:00\n",
      "Fechas futuras: 0\n",
      "Fechas inválidas/NaT: 0\n"
     ]
    }
   ],
   "source": [
    "# 5. VERIFICAR FECHAS INVÁLIDAS (CORREGIDO)\n",
    "print(\"\\n📅 ANÁLISIS DE FECHAS:\")\n",
    "\n",
    "# Convertir a datetime primero\n",
    "df_charity_donation['donation_date'] = pd.to_datetime(df_dog_breed['donation_date'], errors='coerce')\n",
    "\n",
    "print(f\"Rango fechas: {df_charity_donation['donation_date'].min()} to {df_dog_breed['donation_date'].max()}\")\n",
    "print(f\"Fechas futuras: {(df_charity_donation['donation_date'] > pd.Timestamp.now()).sum()}\")\n",
    "print(f\"Fechas inválidas/NaT: {df_charity_donation['donation_date'].isna().sum()}\")"
   ]
  },
  {
   "cell_type": "markdown",
   "id": "2df46f01-99bf-4c16-a5ea-466bb830a0d9",
   "metadata": {},
   "source": [
    "📌 CONCLUSIÓN GENERAL DEL ANÁLISIS:\n",
    "\n",
    "El dataset de donaciones presenta alta calidad (sin valores nulos ni inválidos) y permite identificar patrones claros:\n",
    "\n",
    "1. **Edad y tipo de donación son los principales predictores del monto** → los donantes mayores y recurrentes aportan más.\n",
    "2. **El país influye en capacidad y volumen de donación** → EE.UU. y Reino Unido dominan en montos totales, mientras que India y Alemania sorprenden con promedios más altos por persona.\n",
    "3. **Las campañas exitosas no dependen del monto individual, sino de su alcance** → por ejemplo, *Defend the Great Apes* recauda más gracias al volumen de participantes.\n",
    "4. **La distribución es asimétrica y con outliers** → la mayoría dona poco, pero unos pocos grandes donantes elevan significativamente el promedio.\n",
    "\n",
    "👉 En términos prácticos:  \n",
    "Para maximizar recaudación, la estrategia debe enfocarse en **fidelizar donantes jóvenes con aportes recurrentes** (incrementando recurrencia en lugar de depender de donaciones únicas) y **segmentar campañas por país**, adaptando mensajes según capacidad de aporte.\n",
    "\n"
   ]
  },
  {
   "cell_type": "code",
   "execution_count": null,
   "id": "66efb007-48ef-4189-9a3d-80fd73702b97",
   "metadata": {},
   "outputs": [],
   "source": []
  }
 ],
 "metadata": {
  "kernelspec": {
   "display_name": "Kedro (dino_project)",
   "language": "python",
   "name": "kedro_dino_project"
  },
  "language_info": {
   "codemirror_mode": {
    "name": "ipython",
    "version": 3
   },
   "file_extension": ".py",
   "mimetype": "text/x-python",
   "name": "python",
   "nbconvert_exporter": "python",
   "pygments_lexer": "ipython3",
   "version": "3.13.5"
  }
 },
 "nbformat": 4,
 "nbformat_minor": 5
}
