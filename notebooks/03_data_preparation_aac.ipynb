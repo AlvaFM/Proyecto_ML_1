{
 "cells": [
  {
   "cell_type": "code",
   "execution_count": 10,
   "id": "e7bbc544-56bd-4b36-854c-94497f22f5d8",
   "metadata": {},
   "outputs": [
    {
     "name": "stdout",
     "output_type": "stream",
     "text": [
      "The kedro.ipython extension is already loaded. To reload it, use:\n",
      "  %reload_ext kedro.ipython\n",
      "✅ Kedro extension loaded!\n"
     ]
    }
   ],
   "source": [
    "import pandas as pd\n",
    "import numpy as np\n",
    "# EJECUTA ESTO PRIMERO en tu notebook\n",
    "%load_ext kedro.ipython\n",
    "\n",
    "# Esto automáticamente configurará todo y creará:\n",
    "# - context, session, catalog, pipelines\n",
    "print(\"✅ Kedro extension loaded!\")"
   ]
  },
  {
   "cell_type": "code",
   "execution_count": 11,
   "id": "4cb93011-38f4-4a76-ae3e-37801ca8d790",
   "metadata": {},
   "outputs": [
    {
     "name": "stdout",
     "output_type": "stream",
     "text": [
      "Datasets disponibles en el catálogo:\n"
     ]
    },
    {
     "data": {
      "text/html": [
       "<pre style=\"white-space:pre;overflow-x:auto;line-height:normal;font-family:Menlo,'DejaVu Sans Mono',consolas,'Courier New',monospace\"></pre>\n"
      ],
      "text/plain": []
     },
     "metadata": {},
     "output_type": "display_data"
    },
    {
     "data": {
      "text/plain": [
       "\n",
       "\u001b[1m[\u001b[0m\n",
       "    \u001b[32m'animal_charity_donation_records'\u001b[0m,\n",
       "    \u001b[32m'synthetic_dog_breed_health_data'\u001b[0m,\n",
       "    \u001b[32m'cleaned_dog_breed'\u001b[0m,\n",
       "    \u001b[32m'cleaned_charity_donations'\u001b[0m,\n",
       "    \u001b[32m'cleaned_dog_breed_notebook'\u001b[0m,\n",
       "    \u001b[32m'cleaned_charity_donations_notebook'\u001b[0m,\n",
       "    \u001b[32m'parameters'\u001b[0m,\n",
       "    \u001b[32m'params:data_engineering'\u001b[0m,\n",
       "    \u001b[32m'params:data_engineering.imputation_strategy'\u001b[0m,\n",
       "    \u001b[32m'params:data_engineering.imputation_strategy.numerical'\u001b[0m,\n",
       "    \u001b[32m'params:data_engineering.imputation_strategy.categorical'\u001b[0m,\n",
       "    \u001b[32m'params:data_engineering.scaling'\u001b[0m,\n",
       "    \u001b[32m'params:data_engineering.scaling.standard_scaler'\u001b[0m,\n",
       "    \u001b[32m'params:data_engineering.scaling.robust_scaler'\u001b[0m,\n",
       "    \u001b[32m'params:data_engineering.outlier_limits'\u001b[0m,\n",
       "    \u001b[32m'params:data_engineering.outlier_limits.lower_percentile'\u001b[0m,\n",
       "    \u001b[32m'params:data_engineering.outlier_limits.upper_percentile'\u001b[0m,\n",
       "    \u001b[32m'params:data_engineering.outlier_limits.iqr_multiplier'\u001b[0m,\n",
       "    \u001b[32m'params:data_engineering.encode_columns'\u001b[0m,\n",
       "    \u001b[32m'params:donation_specific'\u001b[0m,\n",
       "    \u001b[32m'params:donation_specific.columns_to_drop'\u001b[0m,\n",
       "    \u001b[32m'params:donation_specific.amount_outlier_percentiles'\u001b[0m,\n",
       "    \u001b[32m'params:donation_specific.categorical_cols_to_encode'\u001b[0m,\n",
       "    \u001b[32m'aac_intakes_outcomes'\u001b[0m\n",
       "\u001b[1m]\u001b[0m"
      ]
     },
     "execution_count": 11,
     "metadata": {},
     "output_type": "execute_result"
    }
   ],
   "source": [
    "print(\"Datasets disponibles en el catálogo:\")\n",
    "catalog.keys()"
   ]
  },
  {
   "cell_type": "code",
   "execution_count": 12,
   "id": "ebf9f6af-1e47-4015-b993-60618ea02131",
   "metadata": {},
   "outputs": [
    {
     "data": {
      "text/html": [
       "<pre style=\"white-space:pre;overflow-x:auto;line-height:normal;font-family:Menlo,'DejaVu Sans Mono',consolas,'Courier New',monospace\"><span style=\"color: #7fbfbf; text-decoration-color: #7fbfbf\">[09/14/25 16:25:34] </span><span style=\"color: #000080; text-decoration-color: #000080\">INFO    </span> Loading data from <span style=\"color: #ff8700; text-decoration-color: #ff8700\">aac_intakes_outcomes</span> <span style=\"font-weight: bold\">(</span>CSVDataset<span style=\"font-weight: bold\">)</span><span style=\"color: #808000; text-decoration-color: #808000\">...</span>            <a href=\"file://C:\\Users\\auror\\Downloads\\E1_ML_\\Proyecto_ML_1\\.venv\\Lib\\site-packages\\kedro\\io\\data_catalog.py\" target=\"_blank\"><span style=\"color: #7f7f7f; text-decoration-color: #7f7f7f\">data_catalog.py</span></a><span style=\"color: #7f7f7f; text-decoration-color: #7f7f7f\">:</span><a href=\"file://C:\\Users\\auror\\Downloads\\E1_ML_\\Proyecto_ML_1\\.venv\\Lib\\site-packages\\kedro\\io\\data_catalog.py#1046\" target=\"_blank\"><span style=\"color: #7f7f7f; text-decoration-color: #7f7f7f\">1046</span></a>\n",
       "</pre>\n"
      ],
      "text/plain": [
       "\u001b[2;36m[09/14/25 16:25:34]\u001b[0m\u001b[2;36m \u001b[0m\u001b[34mINFO    \u001b[0m Loading data from \u001b[38;5;208maac_intakes_outcomes\u001b[0m \u001b[1m(\u001b[0mCSVDataset\u001b[1m)\u001b[0m\u001b[33m...\u001b[0m            \u001b]8;id=311025;file://C:\\Users\\auror\\Downloads\\E1_ML_\\Proyecto_ML_1\\.venv\\Lib\\site-packages\\kedro\\io\\data_catalog.py\u001b\\\u001b[2mdata_catalog.py\u001b[0m\u001b]8;;\u001b\\\u001b[2m:\u001b[0m\u001b]8;id=215486;file://C:\\Users\\auror\\Downloads\\E1_ML_\\Proyecto_ML_1\\.venv\\Lib\\site-packages\\kedro\\io\\data_catalog.py#1046\u001b\\\u001b[2m1046\u001b[0m\u001b]8;;\u001b\\\n"
      ]
     },
     "metadata": {},
     "output_type": "display_data"
    },
    {
     "name": "stdout",
     "output_type": "stream",
     "text": [
      " df_aac: (79672, 41)\n"
     ]
    }
   ],
   "source": [
    "\n",
    "df_aac = catalog.load(\"aac_intakes_outcomes\")\n",
    "\n",
    "\n",
    "\n",
    "\n",
    "print(f\" df_aac: {df_aac.shape}\")"
   ]
  },
  {
   "cell_type": "code",
   "execution_count": 13,
   "id": "3459e934-3a13-41c7-8068-7eaa0fffcca0",
   "metadata": {},
   "outputs": [
    {
     "name": "stdout",
     "output_type": "stream",
     "text": [
      "Registros después de limpieza: 38909\n"
     ]
    }
   ],
   "source": [
    "#LIMPIEZA INICIAL\n",
    "# Filtrar solo perros y eliminar duplicados\n",
    "df_aac_clean = df_aac[df_aac['animal_type'] == 'Dog'].copy()\n",
    "df_aac_clean = df_aac_clean.drop_duplicates(subset=['animal_id_intake'])\n",
    "\n",
    "print(f\"Registros después de limpieza: {df_aac_clean.shape[0]}\")"
   ]
  },
  {
   "cell_type": "code",
   "execution_count": 14,
   "id": "682e52cf-576e-4e47-9883-72d6a966cd80",
   "metadata": {},
   "outputs": [
    {
     "name": "stdout",
     "output_type": "stream",
     "text": [
      "Valores nulos por columna:\n",
      "outcome_subtype     25631\n",
      "outcome_type            1\n",
      "sex_upon_outcome        1\n",
      "sex_upon_intake         1\n",
      "dtype: int64\n"
     ]
    }
   ],
   "source": [
    "#MANEJO DE VALORES NULOS\n",
    "\n",
    "# Valores nulos por columna\n",
    "null_counts = df_aac_clean.isnull().sum()\n",
    "print(\"Valores nulos por columna:\")\n",
    "print(null_counts[null_counts > 0])\n",
    "\n",
    "# Estrategia de imputación\n",
    "df_aac_clean['intake_condition'] = df_aac_clean['intake_condition'].fillna('Unknown')\n",
    "df_aac_clean['outcome_type'] = df_aac_clean['outcome_type'].fillna('Not Specified')\n",
    "df_aac_clean['age_upon_intake_(years)'] = df_aac_clean['age_upon_intake_(years)'].fillna(\n",
    "    df_aac_clean['age_upon_intake_(years)'].median()\n",
    ")"
   ]
  },
  {
   "cell_type": "code",
   "execution_count": 15,
   "id": "ebc5231b-02d9-4852-be86-415f5d84f89c",
   "metadata": {},
   "outputs": [],
   "source": [
    "# Salud al ingreso (binaria)\n",
    "health_mapping = {\n",
    "    'Normal': 1, 'Healthy': 1, 'Aged': 1,\n",
    "    'Injured': 0, 'Sick': 0, 'Medical': 0,\n",
    "    'Unknown': 0.5, 'Other': 0.5\n",
    "}\n",
    "df_aac_clean['health_status_intake'] = df_aac_clean['intake_condition'].map(health_mapping)"
   ]
  },
  {
   "cell_type": "code",
   "execution_count": 16,
   "id": "edba0f72-605c-4a40-9689-357212d211c4",
   "metadata": {},
   "outputs": [],
   "source": [
    "# Outcome favorable (binaria)\n",
    "df_aac_clean['positive_outcome'] = df_aac_clean['outcome_type'].apply(\n",
    "    lambda x: 1 if x in ['Adoption', 'Return to Owner', 'Transfer'] else 0\n",
    ")"
   ]
  },
  {
   "cell_type": "code",
   "execution_count": 18,
   "id": "f1266e75-6b07-4145-861a-1b2113e36faa",
   "metadata": {},
   "outputs": [],
   "source": [
    "# Grupos etarios\n",
    "age_bins = [0, 1, 3, 7, 10, 20]\n",
    "age_labels = ['Cachorro', 'Joven', 'Adulto', 'Maduro', 'Senior']\n",
    "df_aac_clean['age_group'] = pd.cut(\n",
    "    df_aac_clean['age_upon_intake_(years)'], \n",
    "    bins=age_bins, \n",
    "    labels=age_labels\n",
    ")"
   ]
  },
  {
   "cell_type": "code",
   "execution_count": 19,
   "id": "4c1841be-9b5a-4d53-90bd-2cc407da37cf",
   "metadata": {},
   "outputs": [],
   "source": [
    "# Tiempo en refugio (semanas)\n",
    "df_aac_clean['shelter_stay_weeks'] = df_aac_clean['time_in_shelter_days'] / 7\n",
    "\n",
    "# Clasificación de estancia\n",
    "df_aac_clean['stay_category'] = pd.cut(\n",
    "    df_aac_clean['time_in_shelter_days'],\n",
    "    bins=[0, 7, 30, 90, 365, float('inf')],\n",
    "    labels=['Corta (<1 semana)', 'Media (1-4 semanas)', 'Larga (1-3 meses)', \n",
    "            'Muy larga (3-12 meses)', 'Crónica (>1 año)']\n",
    ")"
   ]
  },
  {
   "cell_type": "code",
   "execution_count": 20,
   "id": "4e458640-c054-43cd-83e5-2db75c7f106d",
   "metadata": {},
   "outputs": [],
   "source": [
    "# Columnas relevantes para el análisis\n",
    "selected_columns = [\n",
    "    'animal_id_intake', 'breed', 'color', 'sex_upon_intake',\n",
    "    'age_upon_intake_(years)', 'age_group', 'intake_condition',\n",
    "    'health_status_intake', 'intake_type', 'outcome_type',\n",
    "    'positive_outcome', 'time_in_shelter_days', 'shelter_stay_weeks',\n",
    "    'stay_category', 'intake_datetime', 'outcome_datetime',\n",
    "    'found_location'\n",
    "]\n",
    "\n",
    "df_aac_final = df_aac_clean[selected_columns].copy()"
   ]
  },
  {
   "cell_type": "code",
   "execution_count": 21,
   "id": "689b4732-9b44-4be7-9d84-88f27336f183",
   "metadata": {},
   "outputs": [
    {
     "name": "stdout",
     "output_type": "stream",
     "text": [
      "=== CONTROL DE CALIDAD ===\n",
      "Registros finales: 38909\n",
      "Valores nulos: 789\n",
      "Distribución estado salud: health_status_intake\n",
      "1.0    35611\n",
      "0.0     2616\n",
      "0.5       86\n",
      "Name: count, dtype: int64\n",
      "Distribución outcomes positivos: positive_outcome\n",
      "1    37131\n",
      "0     1778\n",
      "Name: count, dtype: int64\n"
     ]
    }
   ],
   "source": [
    "# Verificación final\n",
    "print(\"=== CONTROL DE CALIDAD ===\")\n",
    "print(f\"Registros finales: {df_aac_final.shape[0]}\")\n",
    "print(f\"Valores nulos: {df_aac_final.isnull().sum().sum()}\")\n",
    "print(f\"Distribución estado salud: {df_aac_final['health_status_intake'].value_counts()}\")\n",
    "print(f\"Distribución outcomes positivos: {df_aac_final['positive_outcome'].value_counts()}\")"
   ]
  },
  {
   "cell_type": "code",
   "execution_count": 25,
   "id": "e835856a-e8e0-4cfd-b4e0-27602a9a3c8e",
   "metadata": {},
   "outputs": [
    {
     "name": "stdout",
     "output_type": "stream",
     "text": [
      "=== ESTADÍSTICAS DEL DATASET PREPARADO ===\n",
      "• Total perros: 38909\n",
      "• Edad promedio: 2.7 años\n",
      "• Tiempo promedio en refugio: 15.7 días\n",
      "• Porcentaje outcomes positivos: 95.4%\n",
      "• Distribución grupos etarios:\n",
      "age_group\n",
      "Cachorro    18738\n",
      "Joven       10098\n",
      "Adulto       6160\n",
      "Maduro       2371\n",
      "Senior       1351\n",
      "Name: count, dtype: int64\n"
     ]
    }
   ],
   "source": [
    "print(\"=== ESTADÍSTICAS DEL DATASET PREPARADO ===\")\n",
    "print(f\"• Total perros: {len(df_aac_final)}\")\n",
    "print(f\"• Edad promedio: {df_aac_final['age_upon_intake_(years)'].mean():.1f} años\")\n",
    "print(f\"• Tiempo promedio en refugio: {df_aac_final['time_in_shelter_days'].mean():.1f} días\")\n",
    "print(f\"• Porcentaje outcomes positivos: {df_aac_final['positive_outcome'].mean()*100:.1f}%\")\n",
    "print(f\"• Distribución grupos etarios:\")\n",
    "print(df_aac_final['age_group'].value_counts())"
   ]
  },
  {
   "cell_type": "code",
   "execution_count": 27,
   "id": "7aceea74-f961-40d3-9f64-7358fc68e4e7",
   "metadata": {},
   "outputs": [
    {
     "name": "stdout",
     "output_type": "stream",
     "text": [
      "💾 Dataset guardado como: data/02_intermediate/cleaned_aac_intakes_outcomes_notebook.csv\n",
      "✅ Archivo verificado: data\\02_intermediate\\cleaned_aac_intakes_outcomes_notebook.csv (8827047 bytes)\n"
     ]
    }
   ],
   "source": [
    "# GUARDAR DATASET CORRECTAMENTE\n",
    "import os\n",
    "from pathlib import Path\n",
    "\n",
    "# 1. Primero crear la carpeta si no existe\n",
    "os.makedirs('data/02_intermediate', exist_ok=True)\n",
    "\n",
    "# 2. Guardar el DataFrame CORRECTO (usa la variable que sí existe)\n",
    "# En lugar de df_encoded, usa el DataFrame que realmente preparaste:\n",
    "output_path = 'data/02_intermediate/cleaned_aac_intakes_outcomes_notebook.csv'\n",
    "df_aac_final.to_csv(output_path, index=False)  # ← ¡CORREGIDO!\n",
    "\n",
    "print(f\"💾 Dataset guardado como: {output_path}\")\n",
    "\n",
    "# 3. Verificar que se creó\n",
    "file_path = Path(output_path)\n",
    "if file_path.exists():\n",
    "    print(f\"✅ Archivo verificado: {file_path} ({file_path.stat().st_size} bytes)\")\n",
    "else:\n",
    "    print(\"❌ Error: El archivo no se creó\")"
   ]
  },
  {
   "cell_type": "code",
   "execution_count": null,
   "id": "e6dcb986-bedd-476e-baed-8cca23a21c52",
   "metadata": {},
   "outputs": [],
   "source": []
  }
 ],
 "metadata": {
  "kernelspec": {
   "display_name": "Kedro (dino_project)",
   "language": "python",
   "name": "kedro_dino_project"
  },
  "language_info": {
   "codemirror_mode": {
    "name": "ipython",
    "version": 3
   },
   "file_extension": ".py",
   "mimetype": "text/x-python",
   "name": "python",
   "nbconvert_exporter": "python",
   "pygments_lexer": "ipython3",
   "version": "3.13.5"
  }
 },
 "nbformat": 4,
 "nbformat_minor": 5
}
