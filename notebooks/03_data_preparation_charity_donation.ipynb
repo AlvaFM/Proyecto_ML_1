{
 "cells": [
  {
   "cell_type": "code",
   "execution_count": 3,
   "id": "6a5040b7-0e99-4694-a90d-c5904ec03868",
   "metadata": {},
   "outputs": [
    {
     "name": "stdout",
     "output_type": "stream",
     "text": [
      "The kedro.ipython extension is already loaded. To reload it, use:\n",
      "  %reload_ext kedro.ipython\n",
      "Kedro extension loaded!\n"
     ]
    }
   ],
   "source": [
    "%load_ext kedro.ipython\n",
    "print(\"Kedro extension loaded!\")"
   ]
  },
  {
   "cell_type": "code",
   "execution_count": 4,
   "id": "19b3b254-12d5-4ea1-b868-d6596d3c2851",
   "metadata": {},
   "outputs": [
    {
     "name": "stdout",
     "output_type": "stream",
     "text": [
      "Datasets disponibles en el catálogo:\n"
     ]
    },
    {
     "data": {
      "text/html": [
       "<pre style=\"white-space:pre;overflow-x:auto;line-height:normal;font-family:Menlo,'DejaVu Sans Mono',consolas,'Courier New',monospace\"></pre>\n"
      ],
      "text/plain": []
     },
     "metadata": {},
     "output_type": "display_data"
    },
    {
     "data": {
      "text/plain": [
       "\n",
       "\u001b[1m[\u001b[0m\n",
       "    \u001b[32m'animal_charity_donation_records'\u001b[0m,\n",
       "    \u001b[32m'synthetic_dog_breed_health_data'\u001b[0m,\n",
       "    \u001b[32m'aac_intakes_outcomes'\u001b[0m,\n",
       "    \u001b[32m'cleaned_dog_breed'\u001b[0m,\n",
       "    \u001b[32m'cleaned_charity_donations_notebook'\u001b[0m,\n",
       "    \u001b[32m'parameters'\u001b[0m,\n",
       "    \u001b[32m'params:data_engineering'\u001b[0m,\n",
       "    \u001b[32m'params:data_engineering.imputation_strategy'\u001b[0m,\n",
       "    \u001b[32m'params:data_engineering.imputation_strategy.numerical'\u001b[0m,\n",
       "    \u001b[32m'params:data_engineering.imputation_strategy.categorical'\u001b[0m,\n",
       "    \u001b[32m'params:data_engineering.scaling'\u001b[0m,\n",
       "    \u001b[32m'params:data_engineering.scaling.standard_scaler'\u001b[0m,\n",
       "    \u001b[32m'params:data_engineering.scaling.robust_scaler'\u001b[0m,\n",
       "    \u001b[32m'params:data_engineering.outlier_limits'\u001b[0m,\n",
       "    \u001b[32m'params:data_engineering.outlier_limits.lower_percentile'\u001b[0m,\n",
       "    \u001b[32m'params:data_engineering.outlier_limits.upper_percentile'\u001b[0m,\n",
       "    \u001b[32m'params:data_engineering.outlier_limits.iqr_multiplier'\u001b[0m,\n",
       "    \u001b[32m'params:data_engineering.encode_columns'\u001b[0m\n",
       "\u001b[1m]\u001b[0m"
      ]
     },
     "execution_count": 4,
     "metadata": {},
     "output_type": "execute_result"
    }
   ],
   "source": [
    "print(\"Datasets disponibles en el catálogo:\")\n",
    "catalog.keys()\n"
   ]
  },
  {
   "cell_type": "code",
   "execution_count": 5,
   "id": "cac68383-8e01-411b-a442-02cceaddb113",
   "metadata": {},
   "outputs": [
    {
     "data": {
      "text/html": [
       "<pre style=\"white-space:pre;overflow-x:auto;line-height:normal;font-family:Menlo,'DejaVu Sans Mono',consolas,'Courier New',monospace\"><span style=\"color: #7fbfbf; text-decoration-color: #7fbfbf\">[09/14/25 02:23:44] </span><span style=\"color: #000080; text-decoration-color: #000080\">INFO    </span> Loading data from <span style=\"color: #ff8700; text-decoration-color: #ff8700\">animal_charity_donation_records</span> <span style=\"font-weight: bold\">(</span>CSVDataset<span style=\"font-weight: bold\">)</span><span style=\"color: #808000; text-decoration-color: #808000\">...</span> <a href=\"file://C:\\Users\\alvaro\\Documents\\GitHub\\MachineLearning\\Proyecto_ML_1\\.venv\\lib\\site-packages\\kedro\\io\\data_catalog.py\" target=\"_blank\"><span style=\"color: #7f7f7f; text-decoration-color: #7f7f7f\">data_catalog.py</span></a><span style=\"color: #7f7f7f; text-decoration-color: #7f7f7f\">:</span><a href=\"file://C:\\Users\\alvaro\\Documents\\GitHub\\MachineLearning\\Proyecto_ML_1\\.venv\\lib\\site-packages\\kedro\\io\\data_catalog.py#1046\" target=\"_blank\"><span style=\"color: #7f7f7f; text-decoration-color: #7f7f7f\">1046</span></a>\n",
       "</pre>\n"
      ],
      "text/plain": [
       "\u001b[2;36m[09/14/25 02:23:44]\u001b[0m\u001b[2;36m \u001b[0m\u001b[34mINFO    \u001b[0m Loading data from \u001b[38;5;208manimal_charity_donation_records\u001b[0m \u001b[1m(\u001b[0mCSVDataset\u001b[1m)\u001b[0m\u001b[33m...\u001b[0m \u001b]8;id=163492;file://C:\\Users\\alvaro\\Documents\\GitHub\\MachineLearning\\Proyecto_ML_1\\.venv\\lib\\site-packages\\kedro\\io\\data_catalog.py\u001b\\\u001b[2mdata_catalog.py\u001b[0m\u001b]8;;\u001b\\\u001b[2m:\u001b[0m\u001b]8;id=566018;file://C:\\Users\\alvaro\\Documents\\GitHub\\MachineLearning\\Proyecto_ML_1\\.venv\\lib\\site-packages\\kedro\\io\\data_catalog.py#1046\u001b\\\u001b[2m1046\u001b[0m\u001b]8;;\u001b\\\n"
      ]
     },
     "metadata": {},
     "output_type": "display_data"
    },
    {
     "name": "stdout",
     "output_type": "stream",
     "text": [
      "df_charity_donation raw y columnas\n"
     ]
    },
    {
     "data": {
      "text/html": [
       "<pre style=\"white-space:pre;overflow-x:auto;line-height:normal;font-family:Menlo,'DejaVu Sans Mono',consolas,'Courier New',monospace\"></pre>\n"
      ],
      "text/plain": []
     },
     "metadata": {},
     "output_type": "display_data"
    },
    {
     "data": {
      "text/plain": [
       "\u001b[1m(\u001b[0m\u001b[1;36m10000\u001b[0m, \u001b[1;36m14\u001b[0m\u001b[1m)\u001b[0m"
      ]
     },
     "execution_count": 5,
     "metadata": {},
     "output_type": "execute_result"
    }
   ],
   "source": [
    "df_charity_donation = catalog.load(\"animal_charity_donation_records\")\n",
    "\n",
    "\n",
    "\n",
    "print(\"df_charity_donation raw y columnas\")\n",
    "df_charity_donation.shape\n"
   ]
  },
  {
   "cell_type": "code",
   "execution_count": 6,
   "id": "955dc1a0-bf01-49bc-9b76-bd1a93b3aa0c",
   "metadata": {},
   "outputs": [
    {
     "data": {
      "text/html": [
       "<pre style=\"white-space:pre;overflow-x:auto;line-height:normal;font-family:Menlo,'DejaVu Sans Mono',consolas,'Courier New',monospace\"><span style=\"color: #7fbfbf; text-decoration-color: #7fbfbf\">                    </span><span style=\"color: #000080; text-decoration-color: #000080\">INFO    </span> Loading data from <span style=\"color: #ff8700; text-decoration-color: #ff8700\">animal_charity_donation_records</span> <span style=\"font-weight: bold\">(</span>CSVDataset<span style=\"font-weight: bold\">)</span><span style=\"color: #808000; text-decoration-color: #808000\">...</span> <a href=\"file://C:\\Users\\alvaro\\Documents\\GitHub\\MachineLearning\\Proyecto_ML_1\\.venv\\lib\\site-packages\\kedro\\io\\data_catalog.py\" target=\"_blank\"><span style=\"color: #7f7f7f; text-decoration-color: #7f7f7f\">data_catalog.py</span></a><span style=\"color: #7f7f7f; text-decoration-color: #7f7f7f\">:</span><a href=\"file://C:\\Users\\alvaro\\Documents\\GitHub\\MachineLearning\\Proyecto_ML_1\\.venv\\lib\\site-packages\\kedro\\io\\data_catalog.py#1046\" target=\"_blank\"><span style=\"color: #7f7f7f; text-decoration-color: #7f7f7f\">1046</span></a>\n",
       "</pre>\n"
      ],
      "text/plain": [
       "\u001b[2;36m                   \u001b[0m\u001b[2;36m \u001b[0m\u001b[34mINFO    \u001b[0m Loading data from \u001b[38;5;208manimal_charity_donation_records\u001b[0m \u001b[1m(\u001b[0mCSVDataset\u001b[1m)\u001b[0m\u001b[33m...\u001b[0m \u001b]8;id=851489;file://C:\\Users\\alvaro\\Documents\\GitHub\\MachineLearning\\Proyecto_ML_1\\.venv\\lib\\site-packages\\kedro\\io\\data_catalog.py\u001b\\\u001b[2mdata_catalog.py\u001b[0m\u001b]8;;\u001b\\\u001b[2m:\u001b[0m\u001b]8;id=378670;file://C:\\Users\\alvaro\\Documents\\GitHub\\MachineLearning\\Proyecto_ML_1\\.venv\\lib\\site-packages\\kedro\\io\\data_catalog.py#1046\u001b\\\u001b[2m1046\u001b[0m\u001b]8;;\u001b\\\n"
      ]
     },
     "metadata": {},
     "output_type": "display_data"
    },
    {
     "name": "stdout",
     "output_type": "stream",
     "text": [
      "📊 Dataset original: (10000, 14)\n",
      "🔍 MISSING VALUES:\n",
      "donor_id             0\n",
      "age_group            0\n",
      "gender               0\n",
      "name                 0\n",
      "email                0\n",
      "country              0\n",
      "donation_type        0\n",
      "donation_amount      0\n",
      "donation_date        0\n",
      "payment_method       0\n",
      "newsletter_opt_in    0\n",
      "referral_channel     0\n",
      "sector               0\n",
      "campaign             0\n",
      "dtype: int64\n",
      "\n",
      "📝 Columnas: ['donor_id', 'age_group', 'gender', 'name', 'email', 'country', 'donation_type', 'donation_amount', 'donation_date', 'payment_method', 'newsletter_opt_in', 'referral_channel', 'sector', 'campaign']\n"
     ]
    }
   ],
   "source": [
    "# NOTEBOOK 03: PREPARACIÓN DATOS DE DONACIONES\n",
    "# =============================================\n",
    "\n",
    "import pandas as pd\n",
    "import numpy as np\n",
    "import matplotlib.pyplot as plt\n",
    "import seaborn as sns\n",
    "from sklearn.preprocessing import StandardScaler, RobustScaler\n",
    "\n",
    "# Cargar datos\n",
    "df = catalog.load(\"animal_charity_donation_records\")\n",
    "print(f\"📊 Dataset original: {df.shape}\")\n",
    "\n",
    "# 1. ANÁLISIS INICIAL\n",
    "print(\"🔍 MISSING VALUES:\")\n",
    "print(df.isnull().sum())\n",
    "print(f\"\\n📝 Columnas: {list(df.columns)}\")"
   ]
  },
  {
   "cell_type": "code",
   "execution_count": 7,
   "id": "61a303f1-9f55-4171-ae8e-210301c4db5e",
   "metadata": {},
   "outputs": [
    {
     "name": "stdout",
     "output_type": "stream",
     "text": [
      "✅ Columnas eliminadas: ['donor_id', 'name', 'email']\n",
      "📊 Nuevo shape: (10000, 11)\n"
     ]
    }
   ],
   "source": [
    "# 2. ELIMINAR COLUMNAS IRRELEVANTES\n",
    "columns_to_drop = ['donor_id', 'name', 'email']  # Info personal\n",
    "df_clean = df.drop(columns=columns_to_drop)\n",
    "print(f\"✅ Columnas eliminadas: {columns_to_drop}\")\n",
    "print(f\"📊 Nuevo shape: {df_clean.shape}\")"
   ]
  },
  {
   "cell_type": "code",
   "execution_count": 8,
   "id": "b8ea046d-8d44-4981-97f3-4f7c62b23a68",
   "metadata": {},
   "outputs": [
    {
     "name": "stdout",
     "output_type": "stream",
     "text": [
      "🎯 TRATAMIENTO DE OUTLIERS:\n",
      "Límites winsorization: [1.94, 224.99]\n",
      "✅ Outliers tratados - Nuevo rango: [1.94, 224.99]\n"
     ]
    }
   ],
   "source": [
    "# 3. MANEJO DE OUTLIERS - DONATION_AMOUNT\n",
    "print(\"🎯 TRATAMIENTO DE OUTLIERS:\")\n",
    "\n",
    "# Winsorization en percentiles 1% y 99%\n",
    "lower_bound = df_clean['donation_amount'].quantile(0.01)\n",
    "upper_bound = df_clean['donation_amount'].quantile(0.99)\n",
    "\n",
    "print(f\"Límites winsorization: [{lower_bound:.2f}, {upper_bound:.2f}]\")\n",
    "\n",
    "# Aplicar winsorization\n",
    "df_clean['donation_amount'] = np.where(\n",
    "    df_clean['donation_amount'] < lower_bound, lower_bound,\n",
    "    np.where(df_clean['donation_amount'] > upper_bound, upper_bound, df_clean['donation_amount'])\n",
    ")\n",
    "\n",
    "print(f\"✅ Outliers tratados - Nuevo rango: [{df_clean['donation_amount'].min():.2f}, {df_clean['donation_amount'].max():.2f}]\")"
   ]
  },
  {
   "cell_type": "code",
   "execution_count": 9,
   "id": "45dd6521-28d1-466f-8223-2a17f4771e62",
   "metadata": {},
   "outputs": [
    {
     "name": "stdout",
     "output_type": "stream",
     "text": [
      "📈 TRANSFORMACIÓN LOGARÍTMICA:\n",
      "Skewness original: 1.870\n",
      "Skewness log: -0.025\n"
     ]
    }
   ],
   "source": [
    "# 4. TRANSFORMACIÓN PARA NORMALIDAD\n",
    "print(\"📈 TRANSFORMACIÓN LOGARÍTMICA:\")\n",
    "df_clean['donation_amount_log'] = np.log1p(df_clean['donation_amount'])\n",
    "print(f\"Skewness original: {df['donation_amount'].skew():.3f}\")\n",
    "print(f\"Skewness log: {df_clean['donation_amount_log'].skew():.3f}\")"
   ]
  },
  {
   "cell_type": "code",
   "execution_count": 10,
   "id": "ba6c6b4d-937b-4052-9838-d051520366a6",
   "metadata": {},
   "outputs": [
    {
     "name": "stdout",
     "output_type": "stream",
     "text": [
      "📅 Variables temporales creadas: year, month, day\n"
     ]
    }
   ],
   "source": [
    "# 5. ENGINEERING DE VARIABLES TEMPORALES\n",
    "df_clean['donation_date'] = pd.to_datetime(df_clean['donation_date'])\n",
    "df_clean['donation_year'] = df_clean['donation_date'].dt.year\n",
    "df_clean['donation_month'] = df_clean['donation_date'].dt.month\n",
    "df_clean['donation_day'] = df_clean['donation_date'].dt.day\n",
    "\n",
    "print(\"📅 Variables temporales creadas: year, month, day\")"
   ]
  },
  {
   "cell_type": "code",
   "execution_count": 11,
   "id": "cc11744b-4d09-457c-afbb-5e614dd4a8ac",
   "metadata": {},
   "outputs": [
    {
     "name": "stdout",
     "output_type": "stream",
     "text": [
      "✅ Dataset encoded: (10000, 55)\n",
      "📊 Nuevas columnas: 55\n"
     ]
    }
   ],
   "source": [
    "# 6. CODIFICACIÓN DE VARIABLES CATEGÓRICAS\n",
    "categorical_cols = ['country', 'payment_method', 'referral_channel', 'sector', 'campaign']\n",
    "df_encoded = pd.get_dummies(df_clean, columns=categorical_cols, prefix_sep='_', drop_first=True)\n",
    "\n",
    "print(f\"✅ Dataset encoded: {df_encoded.shape}\")\n",
    "print(f\"📊 Nuevas columnas: {len(df_encoded.columns)}\")"
   ]
  },
  {
   "cell_type": "code",
   "execution_count": 12,
   "id": "4d441fc3-440b-48b2-a620-db0c9d771c08",
   "metadata": {},
   "outputs": [
    {
     "name": "stdout",
     "output_type": "stream",
     "text": [
      "💾 Dataset guardado como: data/02_intermediate/cleaned_charity_donations_notebook.csv\n",
      "✅ Archivo verificado: data\\02_intermediate\\cleaned_charity_donations_notebook.csv (3381823 bytes)\n"
     ]
    }
   ],
   "source": [
    "# GUARDAR DATASET CORRECTAMENTE\n",
    "import os\n",
    "from pathlib import Path\n",
    "\n",
    "# 1. Primero crear la carpeta si no existe\n",
    "os.makedirs('data/02_intermediate', exist_ok=True)\n",
    "\n",
    "# 2. Guardar el DataFrame como CSV\n",
    "output_path = 'data/02_intermediate/cleaned_charity_donations_notebook.csv'\n",
    "df_encoded.to_csv(output_path, index=False)  # ← ¡ESTA LÍNEA FALTA!\n",
    "\n",
    "print(f\"💾 Dataset guardado como: {output_path}\")\n",
    "\n",
    "# 3. Verificar que se creó\n",
    "file_path = Path(output_path)\n",
    "if file_path.exists():\n",
    "    print(f\"✅ Archivo verificado: {file_path} ({file_path.stat().st_size} bytes)\")\n",
    "else:\n",
    "    print(\"❌ Error: El archivo no se creó\")"
   ]
  },
  {
   "cell_type": "code",
   "execution_count": null,
   "id": "aaa91acd-c15b-4f79-9945-5ca57df5c956",
   "metadata": {},
   "outputs": [],
   "source": []
  }
 ],
 "metadata": {
  "kernelspec": {
   "display_name": "Kedro (dino_project)",
   "language": "python",
   "name": "kedro_dino_project"
  },
  "language_info": {
   "codemirror_mode": {
    "name": "ipython",
    "version": 3
   },
   "file_extension": ".py",
   "mimetype": "text/x-python",
   "name": "python",
   "nbconvert_exporter": "python",
   "pygments_lexer": "ipython3",
   "version": "3.13.5"
  }
 },
 "nbformat": 4,
 "nbformat_minor": 5
}
