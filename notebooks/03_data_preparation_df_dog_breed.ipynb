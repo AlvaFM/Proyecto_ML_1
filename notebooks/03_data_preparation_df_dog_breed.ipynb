{
 "cells": [
  {
   "cell_type": "code",
   "execution_count": 14,
   "id": "571fbb58-1866-4422-b6f2-a8d61bac1f04",
   "metadata": {},
   "outputs": [
    {
     "name": "stdout",
     "output_type": "stream",
     "text": [
      "The kedro.ipython extension is already loaded. To reload it, use:\n",
      "  %reload_ext kedro.ipython\n",
      "✅ Kedro extension loaded!\n"
     ]
    }
   ],
   "source": [
    "# EJECUTA ESTO PRIMERO en tu notebook\n",
    "%load_ext kedro.ipython\n",
    "\n",
    "# Esto automáticamente configurará todo y creará:\n",
    "# - context, session, catalog, pipelines\n",
    "print(\"✅ Kedro extension loaded!\")"
   ]
  },
  {
   "cell_type": "code",
   "execution_count": 15,
   "id": "960cfb27-6a70-4cb3-81af-e79501921c2a",
   "metadata": {},
   "outputs": [
    {
     "name": "stdout",
     "output_type": "stream",
     "text": [
      "Datasets disponibles en el catálogo:\n"
     ]
    },
    {
     "data": {
      "text/html": [
       "<pre style=\"white-space:pre;overflow-x:auto;line-height:normal;font-family:Menlo,'DejaVu Sans Mono',consolas,'Courier New',monospace\"></pre>\n"
      ],
      "text/plain": []
     },
     "metadata": {},
     "output_type": "display_data"
    },
    {
     "data": {
      "text/plain": [
       "\n",
       "\u001b[1m[\u001b[0m\n",
       "    \u001b[32m'animal_charity_donation_records'\u001b[0m,\n",
       "    \u001b[32m'aac_intakes_outcomes'\u001b[0m,\n",
       "    \u001b[32m'cleaned_dog_breed'\u001b[0m,\n",
       "    \u001b[32m'cleaned_charity_donations_notebook'\u001b[0m,\n",
       "    \u001b[32m'parameters'\u001b[0m,\n",
       "    \u001b[32m'params:data_engineering'\u001b[0m,\n",
       "    \u001b[32m'params:data_engineering.imputation_strategy'\u001b[0m,\n",
       "    \u001b[32m'params:data_engineering.imputation_strategy.numerical'\u001b[0m,\n",
       "    \u001b[32m'params:data_engineering.imputation_strategy.categorical'\u001b[0m,\n",
       "    \u001b[32m'params:data_engineering.scaling'\u001b[0m,\n",
       "    \u001b[32m'params:data_engineering.scaling.standard_scaler'\u001b[0m,\n",
       "    \u001b[32m'params:data_engineering.scaling.robust_scaler'\u001b[0m,\n",
       "    \u001b[32m'params:data_engineering.outlier_limits'\u001b[0m,\n",
       "    \u001b[32m'params:data_engineering.outlier_limits.lower_percentile'\u001b[0m,\n",
       "    \u001b[32m'params:data_engineering.outlier_limits.upper_percentile'\u001b[0m,\n",
       "    \u001b[32m'params:data_engineering.outlier_limits.iqr_multiplier'\u001b[0m,\n",
       "    \u001b[32m'params:data_engineering.encode_columns'\u001b[0m,\n",
       "    \u001b[32m'synthetic_dog_breed_health_data'\u001b[0m\n",
       "\u001b[1m]\u001b[0m"
      ]
     },
     "execution_count": 15,
     "metadata": {},
     "output_type": "execute_result"
    }
   ],
   "source": [
    "print(\"Datasets disponibles en el catálogo:\")\n",
    "catalog.keys()\n",
    "\n"
   ]
  },
  {
   "cell_type": "code",
   "execution_count": 16,
   "id": "9d37c61a-a218-4cd0-9826-3de77203dfff",
   "metadata": {},
   "outputs": [
    {
     "data": {
      "text/html": [
       "<pre style=\"white-space:pre;overflow-x:auto;line-height:normal;font-family:Menlo,'DejaVu Sans Mono',consolas,'Courier New',monospace\"><span style=\"color: #7fbfbf; text-decoration-color: #7fbfbf\">[09/14/25 02:17:33] </span><span style=\"color: #000080; text-decoration-color: #000080\">INFO    </span> Loading data from <span style=\"color: #ff8700; text-decoration-color: #ff8700\">synthetic_dog_breed_health_data</span> <span style=\"font-weight: bold\">(</span>CSVDataset<span style=\"font-weight: bold\">)</span><span style=\"color: #808000; text-decoration-color: #808000\">...</span> <a href=\"file://C:\\Users\\alvaro\\Documents\\GitHub\\MachineLearning\\Proyecto_ML_1\\.venv\\lib\\site-packages\\kedro\\io\\data_catalog.py\" target=\"_blank\"><span style=\"color: #7f7f7f; text-decoration-color: #7f7f7f\">data_catalog.py</span></a><span style=\"color: #7f7f7f; text-decoration-color: #7f7f7f\">:</span><a href=\"file://C:\\Users\\alvaro\\Documents\\GitHub\\MachineLearning\\Proyecto_ML_1\\.venv\\lib\\site-packages\\kedro\\io\\data_catalog.py#1046\" target=\"_blank\"><span style=\"color: #7f7f7f; text-decoration-color: #7f7f7f\">1046</span></a>\n",
       "</pre>\n"
      ],
      "text/plain": [
       "\u001b[2;36m[09/14/25 02:17:33]\u001b[0m\u001b[2;36m \u001b[0m\u001b[34mINFO    \u001b[0m Loading data from \u001b[38;5;208msynthetic_dog_breed_health_data\u001b[0m \u001b[1m(\u001b[0mCSVDataset\u001b[1m)\u001b[0m\u001b[33m...\u001b[0m \u001b]8;id=338809;file://C:\\Users\\alvaro\\Documents\\GitHub\\MachineLearning\\Proyecto_ML_1\\.venv\\lib\\site-packages\\kedro\\io\\data_catalog.py\u001b\\\u001b[2mdata_catalog.py\u001b[0m\u001b]8;;\u001b\\\u001b[2m:\u001b[0m\u001b]8;id=362425;file://C:\\Users\\alvaro\\Documents\\GitHub\\MachineLearning\\Proyecto_ML_1\\.venv\\lib\\site-packages\\kedro\\io\\data_catalog.py#1046\u001b\\\u001b[2m1046\u001b[0m\u001b]8;;\u001b\\\n"
      ]
     },
     "metadata": {},
     "output_type": "display_data"
    },
    {
     "name": "stdout",
     "output_type": "stream",
     "text": [
      " df_dog_breed: (10000, 21)\n"
     ]
    }
   ],
   "source": [
    "df_dog_breed = catalog.load(\"synthetic_dog_breed_health_data\")\n",
    "\n",
    "\n",
    "\n",
    "\n",
    "print(f\" df_dog_breed: {df_dog_breed.shape}\")\n"
   ]
  },
  {
   "cell_type": "code",
   "execution_count": 17,
   "id": "150de4a3-3193-46b5-8134-2a818d2f4fec",
   "metadata": {},
   "outputs": [
    {
     "name": "stdout",
     "output_type": "stream",
     "text": [
      "Dataset original: (10000, 21)\n",
      "Valores missing iniciales: 13124\n",
      "\n",
      "1. IMPUTACIÓN DE VALORES FALTANTES\n",
      "========================================\n",
      "✅ Imputación completada\n",
      "Valores missing restantes: 0\n"
     ]
    }
   ],
   "source": [
    "# NOTEBOOK 03: data_preparation.ipynb\n",
    "# ==================================================\n",
    "\n",
    "import pandas as pd\n",
    "import numpy as np\n",
    "from sklearn.preprocessing import StandardScaler, RobustScaler\n",
    "from sklearn.impute import SimpleImputer\n",
    "\n",
    "# Dataset ya cargado: df_donations\n",
    "print(f\"Dataset original: {df_dog_breed.shape}\")\n",
    "print(f\"Valores missing iniciales: {df_dog_breed.isnull().sum().sum()}\")\n",
    "\n",
    "# 1. IMPUTACIÓN DE VALORES FALTANTES\n",
    "print(\"\\n1. IMPUTACIÓN DE VALORES FALTANTES\")\n",
    "print(\"=\" * 40)\n",
    "\n",
    "# Estrategias basadas en el análisis previo\n",
    "imputation_strategy = {\n",
    "    # Variables categóricas con >20% missing\n",
    "    'Spay/Neuter Status': 'most_frequent',\n",
    "    'Daily Activity Level': 'most_frequent', \n",
    "    'Owner Activity Level': 'most_frequent',\n",
    "    \n",
    "    # Variables categóricas con 2-3% missing\n",
    "    'Breed': 'most_frequent',\n",
    "    'Breed Size': 'most_frequent',\n",
    "    'Sex': 'most_frequent',\n",
    "    'Diet': 'most_frequent',\n",
    "    'Food Brand': 'most_frequent',\n",
    "    'Other Pets in Household': 'most_frequent',\n",
    "    'Medications': 'most_frequent',\n",
    "    'Seizures': 'most_frequent',\n",
    "    'Synthetic': 'most_frequent',\n",
    "    'Healthy': 'most_frequent',  # Variable objetivo importante\n",
    "    \n",
    "    # Variables numéricas\n",
    "    'Age': 'median',\n",
    "    'Weight (lbs)': 'median',\n",
    "    'Daily Walk Distance (miles)': 'median',\n",
    "    'Hours of Sleep': 'median', \n",
    "    'Play Time (hrs)': 'median',\n",
    "    'Annual Vet Visits': 'median',\n",
    "    'Average Temperature (F)': 'median'\n",
    "}\n",
    "\n",
    "# Aplicar imputación CORRECTAMENTE\n",
    "df_clean = df_dog_breed.copy()\n",
    "for column, strategy in imputation_strategy.items():\n",
    "    if column in df_clean.columns:\n",
    "        if strategy == 'most_frequent':\n",
    "            imputer = SimpleImputer(strategy='most_frequent')\n",
    "        else:\n",
    "            imputer = SimpleImputer(strategy=strategy)\n",
    "        \n",
    "        # CORRECCIÓN: Convertir a 1D array con .ravel()\n",
    "        imputed_data = imputer.fit_transform(df_clean[[column]]).ravel()\n",
    "        df_clean[column] = imputed_data\n",
    "\n",
    "print(\"✅ Imputación completada\")\n",
    "print(f\"Valores missing restantes: {df_clean.isnull().sum().sum()}\")"
   ]
  },
  {
   "cell_type": "code",
   "execution_count": 18,
   "id": "d6aa7a42-fe53-4856-950b-eda26e0fe5ed",
   "metadata": {},
   "outputs": [
    {
     "name": "stdout",
     "output_type": "stream",
     "text": [
      "\n",
      "2. MANEJO DE OUTLIERS\n",
      "========================================\n",
      "Weight (lbs): outliers tratados con winsorization\n",
      "Daily Walk Distance (miles): outliers tratados con winsorization\n",
      "Play Time (hrs): outliers tratados con winsorization\n",
      "Annual Vet Visits: outliers tratados con winsorization\n",
      "✅ Outliers manejados\n"
     ]
    }
   ],
   "source": [
    "# 2. MANEJO DE OUTLIERS\n",
    "print(\"\\n2. MANEJO DE OUTLIERS\")\n",
    "print(\"=\" * 40)\n",
    "\n",
    "# Para variables numéricas clave - winsorization suave\n",
    "numeric_vars = ['Weight (lbs)', 'Daily Walk Distance (miles)', 'Play Time (hrs)', 'Annual Vet Visits']\n",
    "\n",
    "for var in numeric_vars:\n",
    "    Q1 = df_clean[var].quantile(0.05)  # Usamos percentiles 5 y 95 para winsorization\n",
    "    Q3 = df_clean[var].quantile(0.95)\n",
    "    IQR = Q3 - Q1\n",
    "    \n",
    "    lower_bound = Q1 - 1.5 * IQR\n",
    "    upper_bound = Q3 + 1.5 * IQR\n",
    "    \n",
    "    # Reemplazar outliers con los límites\n",
    "    df_clean[var] = np.where(df_clean[var] < lower_bound, lower_bound, df_clean[var])\n",
    "    df_clean[var] = np.where(df_clean[var] > upper_bound, upper_bound, df_clean[var])\n",
    "    \n",
    "    print(f\"{var}: outliers tratados con winsorization\")\n",
    "\n",
    "print(\"✅ Outliers manejados\")"
   ]
  },
  {
   "cell_type": "code",
   "execution_count": 19,
   "id": "03fd3bcc-92f2-4642-8b0f-1ee71a881caa",
   "metadata": {},
   "outputs": [
    {
     "name": "stdout",
     "output_type": "stream",
     "text": [
      "\n",
      "3. ESCALADO DE VARIABLES\n",
      "========================================\n",
      "✅ Variables escaladas:\n",
      "   - StandardScaler: ['Weight (lbs)']\n",
      "   - RobustScaler: ['Annual Vet Visits']\n"
     ]
    }
   ],
   "source": [
    "# 3. ESCALADO DE VARIABLES NUMÉRICAS\n",
    "print(\"\\n3. ESCALADO DE VARIABLES\")\n",
    "print(\"=\" * 40)\n",
    "\n",
    "# Separar variables para diferentes escalados\n",
    "scaler_standard = StandardScaler()\n",
    "scaler_robust = RobustScaler()\n",
    "\n",
    "# Variables para StandardScaler (distribución normal)\n",
    "standard_vars = ['Weight (lbs)']\n",
    "\n",
    "# Variables para RobustScaler (con outliers)\n",
    "robust_vars = ['Annual Vet Visits']\n",
    "\n",
    "# Aplicar escalado\n",
    "df_clean[standard_vars] = scaler_standard.fit_transform(df_clean[standard_vars])\n",
    "df_clean[robust_vars] = scaler_robust.fit_transform(df_clean[robust_vars])\n",
    "\n",
    "print(\"✅ Variables escaladas:\")\n",
    "print(f\"   - StandardScaler: {standard_vars}\")\n",
    "print(f\"   - RobustScaler: {robust_vars}\")"
   ]
  },
  {
   "cell_type": "code",
   "execution_count": 20,
   "id": "14b12ad2-3190-4d70-a742-9a4cab6a635a",
   "metadata": {},
   "outputs": [
    {
     "name": "stdout",
     "output_type": "stream",
     "text": [
      "\n",
      "4. CODIFICACIÓN DE VARIABLES CATEGÓRICAS\n",
      "==================================================\n",
      "Variables categóricas a codificar: ['Breed', 'Breed Size', 'Sex', 'Spay/Neuter Status', 'Daily Activity Level', 'Diet', 'Food Brand', 'Other Pets in Household', 'Medications', 'Seizures', 'Owner Activity Level', 'Synthetic', 'Healthy']\n",
      "✅ Dataset después de encoding: (10000, 47)\n",
      "Nuevas columnas: ['ID', 'Age', 'Weight (lbs)', 'Daily Walk Distance (miles)', 'Hours of Sleep', 'Play Time (hrs)', 'Annual Vet Visits', 'Average Temperature (F)', 'Healthy', 'Breed_Beagle', 'Breed_Boxer', 'Breed_Bulldog', 'Breed_Chihuahua', 'Breed_Dachshund', 'Breed_Doberman', 'Breed_German Shepherd', 'Breed_Golden Retriever', 'Breed_Great Dane', 'Breed_Labrador Retriever', 'Breed_Poodle', 'Breed_Rottweiler', 'Breed_Siberian Husky', 'Breed_Yorkshire Terrier', 'Breed Size_Medium', 'Breed Size_Small', 'Sex_Male', 'Spay/Neuter Status_Spayed', 'Daily Activity Level_Low', 'Daily Activity Level_Moderate', 'Daily Activity Level_Very Active', 'Diet_Home cooked', 'Diet_Special diet', 'Diet_Wet food', \"Food Brand_Hill's Science\", 'Food Brand_Iams', 'Food Brand_Nutro', 'Food Brand_Pedigree', 'Food Brand_Purina', 'Food Brand_Royal Canin', 'Food Brand_Special', 'Food Brand_Wellness', 'Other Pets in Household_Yes', 'Medications_Yes', 'Seizures_Yes', 'Owner Activity Level_Low', 'Owner Activity Level_Moderate', 'Owner Activity Level_Very Active']\n"
     ]
    }
   ],
   "source": [
    "# 4. CODIFICACIÓN DE VARIABLES CATEGÓRICAS\n",
    "print(\"\\n4. CODIFICACIÓN DE VARIABLES CATEGÓRICAS\")\n",
    "print(\"=\" * 50)\n",
    "\n",
    "# Identificar variables categóricas para encoding\n",
    "categorical_cols = df_clean.select_dtypes(include=['object']).columns.tolist()\n",
    "print(f\"Variables categóricas a codificar: {categorical_cols}\")\n",
    "\n",
    "# Aplicar One-Hot Encoding a variables categóricas (excepto la target)\n",
    "categorical_cols_to_encode = [col for col in categorical_cols if col != 'Healthy']\n",
    "\n",
    "df_encoded = pd.get_dummies(df_clean, columns=categorical_cols_to_encode, prefix_sep='_', drop_first=True)\n",
    "\n",
    "print(f\"✅ Dataset después de encoding: {df_encoded.shape}\")\n",
    "print(f\"Nuevas columnas: {df_encoded.columns.tolist()}\")"
   ]
  },
  {
   "cell_type": "code",
   "execution_count": 21,
   "id": "5c9bdd1e-23a0-423f-9983-b4a82f35f576",
   "metadata": {},
   "outputs": [
    {
     "name": "stdout",
     "output_type": "stream",
     "text": [
      "\n",
      " CORRECCIÓN DE VALORES NEGATIVOS\n",
      "=============================================\n",
      "Valores negativos encontrados: 2161\n",
      "Valores negativos después de corrección: 0\n",
      "\n",
      " DISTRIBUCIÓN CORREGIDA DE VISITAS VETERINARIAS:\n",
      "Annual Vet Visits\n",
      "0.0    5705\n",
      "1.0    2431\n",
      "2.0    1260\n",
      "3.0     604\n",
      "Name: count, dtype: int64\n"
     ]
    }
   ],
   "source": [
    "# CORREGIR VALORES NEGATIVOS EN VISITAS VETERINARIAS\n",
    "print(\"\\n CORRECCIÓN DE VALORES NEGATIVOS\")\n",
    "print(\"=\" * 45)\n",
    "\n",
    "# Reemplazar valores negativos por 0 (ninguna visita)\n",
    "valores_negativos = (df_encoded['Annual Vet Visits'] < 0).sum()\n",
    "print(f\"Valores negativos encontrados: {valores_negativos}\")\n",
    "\n",
    "df_encoded['Annual Vet Visits'] = df_encoded['Annual Vet Visits'].clip(lower=0)\n",
    "print(f\"Valores negativos después de corrección: {(df_encoded['Annual Vet Visits'] < 0).sum()}\")\n",
    "\n",
    "# Ver distribución corregida\n",
    "print(\"\\n DISTRIBUCIÓN CORREGIDA DE VISITAS VETERINARIAS:\")\n",
    "print(df_encoded['Annual Vet Visits'].value_counts().sort_index())"
   ]
  },
  {
   "cell_type": "code",
   "execution_count": 22,
   "id": "509d20ea-4a4f-4506-b33a-8aca00508d5f",
   "metadata": {},
   "outputs": [
    {
     "name": "stdout",
     "output_type": "stream",
     "text": [
      "\n",
      "🔍 REVISIÓN DE OTRAS VARIABLES NUMÉRICAS:\n",
      "Weight (lbs): 5217 valores negativos\n",
      "✅ Daily Walk Distance (miles): Sin valores negativos\n",
      "✅ Hours of Sleep: Sin valores negativos\n",
      "✅ Play Time (hrs): Sin valores negativos\n",
      "✅ Annual Vet Visits: Sin valores negativos\n"
     ]
    }
   ],
   "source": [
    "# VERIFICAR OTROS VALORES NEGATIVOS\n",
    "print(\"\\n🔍 REVISIÓN DE OTRAS VARIABLES NUMÉRICAS:\")\n",
    "numeric_cols = ['Weight (lbs)', 'Daily Walk Distance (miles)', \n",
    "                'Hours of Sleep', 'Play Time (hrs)', 'Annual Vet Visits']\n",
    "\n",
    "for col in numeric_cols:\n",
    "    if col in df_encoded.columns:\n",
    "        negativos = (df_encoded[col] < 0).sum()\n",
    "        if negativos > 0:\n",
    "            print(f\"{col}: {negativos} valores negativos\")\n",
    "        else:\n",
    "            print(f\"✅ {col}: Sin valores negativos\")"
   ]
  },
  {
   "cell_type": "code",
   "execution_count": 23,
   "id": "b97f244b-7863-4ef9-85f8-18e29fa57c98",
   "metadata": {},
   "outputs": [
    {
     "name": "stdout",
     "output_type": "stream",
     "text": [
      "\n",
      "🔧 CORRECCIÓN DE VALORES NEGATIVOS EN PESOS\n",
      "=======================================================\n",
      "Distribución actual de Weight (lbs):\n",
      "count    1.000000e+04\n",
      "mean     2.188472e-16\n",
      "std      1.000050e+00\n",
      "min     -2.738021e+00\n",
      "25%     -6.945488e-01\n",
      "50%     -1.339155e-02\n",
      "75%      6.677657e-01\n",
      "max      4.005436e+00\n",
      "Name: Weight (lbs), dtype: float64\n",
      "\n",
      "Distribución corregida:\n",
      "count    10000.000000\n",
      "mean         0.394824\n",
      "std          0.588358\n",
      "min          0.000000\n",
      "25%          0.000000\n",
      "50%          0.000000\n",
      "75%          0.667766\n",
      "max          4.005436\n",
      "Name: Weight (lbs), dtype: float64\n",
      "Valores negativos después de corrección: 0\n"
     ]
    }
   ],
   "source": [
    "# CORREGIR VALORES NEGATIVOS EN PESOS\n",
    "print(\"\\n🔧 CORRECCIÓN DE VALORES NEGATIVOS EN PESOS\")\n",
    "print(\"=\" * 55)\n",
    "\n",
    "# Ver distribución actual problemática\n",
    "print(\"Distribución actual de Weight (lbs):\")\n",
    "print(df_encoded['Weight (lbs)'].describe())\n",
    "\n",
    "# Los pesos NUNCA deberían ser negativos - aplicar límite inferior 0\n",
    "df_encoded['Weight (lbs)'] = df_encoded['Weight (lbs)'].clip(lower=0)\n",
    "\n",
    "print(\"\\nDistribución corregida:\")\n",
    "print(df_encoded['Weight (lbs)'].describe())\n",
    "print(f\"Valores negativos después de corrección: {(df_encoded['Weight (lbs)'] < 0).sum()}\")"
   ]
  },
  {
   "cell_type": "code",
   "execution_count": 24,
   "id": "01e50103-77e0-4246-a161-27c27f4e0ebb",
   "metadata": {},
   "outputs": [
    {
     "name": "stdout",
     "output_type": "stream",
     "text": [
      "\n",
      "REVISIÓN FINAL - VALORES NEGATIVOS:\n",
      "✅ Weight (lbs): Sin negativos (min: 0.00, max: 4.01)\n",
      "✅ Daily Walk Distance (miles): Sin negativos (min: 0.00, max: 8.00)\n",
      "✅ Hours of Sleep: Sin negativos (min: 8.00, max: 14.00)\n",
      "✅ Play Time (hrs): Sin negativos (min: 0.00, max: 4.00)\n",
      "✅ Annual Vet Visits: Sin negativos (min: 0.00, max: 3.00)\n"
     ]
    }
   ],
   "source": [
    "# REVISIÓN FINAL DE TODAS LAS VARIABLES\n",
    "print(\"\\nREVISIÓN FINAL - VALORES NEGATIVOS:\")\n",
    "numeric_cols = ['Weight (lbs)', 'Daily Walk Distance (miles)', \n",
    "                'Hours of Sleep', 'Play Time (hrs)', 'Annual Vet Visits']\n",
    "\n",
    "for col in numeric_cols:\n",
    "    if col in df_encoded.columns:\n",
    "        negativos = (df_encoded[col] < 0).sum()\n",
    "        min_val = df_encoded[col].min()\n",
    "        max_val = df_encoded[col].max()\n",
    "        \n",
    "        if negativos > 0:\n",
    "            print(f\" {col}: {negativos} negativos (min: {min_val:.2f}, max: {max_val:.2f})\")\n",
    "        else:\n",
    "            print(f\"✅ {col}: Sin negativos (min: {min_val:.2f}, max: {max_val:.2f})\")"
   ]
  },
  {
   "cell_type": "code",
   "execution_count": 29,
   "id": "4421c2dd-a1cd-47e7-b8c6-d615d889736a",
   "metadata": {},
   "outputs": [
    {
     "name": "stdout",
     "output_type": "stream",
     "text": [
      "💾 Dataset guardado como: data/02_intermediate/cleaned_dog_breed_notebook.csv\n",
      "✅ Archivo verificado: data\\02_intermediate\\cleaned_dog_breed_notebook.csv (2683214 bytes)\n"
     ]
    }
   ],
   "source": [
    "# GUARDAR DATASET CORRECTAMENTE\n",
    "import os\n",
    "from pathlib import Path\n",
    "\n",
    "# 1. Primero crear la carpeta si no existe\n",
    "os.makedirs('data/02_intermediate', exist_ok=True)\n",
    "\n",
    "# 2. Guardar el DataFrame como CSV\n",
    "output_path = 'data/02_intermediate/cleaned_dog_breed_notebook.csv'\n",
    "df_encoded.to_csv(output_path, index=False)  # ← ¡ESTA LÍNEA FALTA!\n",
    "\n",
    "print(f\"💾 Dataset guardado como: {output_path}\")\n",
    "\n",
    "# 3. Verificar que se creó\n",
    "file_path = Path(output_path)\n",
    "if file_path.exists():\n",
    "    print(f\"✅ Archivo verificado: {file_path} ({file_path.stat().st_size} bytes)\")\n",
    "else:\n",
    "    print(\"❌ Error: El archivo no se creó\")"
   ]
  },
  {
   "cell_type": "code",
   "execution_count": 26,
   "id": "7c7433ec-9aee-4dc6-be58-468d49dbd32a",
   "metadata": {},
   "outputs": [
    {
     "name": "stdout",
     "output_type": "stream",
     "text": [
      "\n",
      "6. VERIFICACIÓN FINAL\n",
      "========================================\n",
      "📝 INFORMACIÓN DEL DATASET LIMPIO:\n",
      "<class 'pandas.core.frame.DataFrame'>\n",
      "RangeIndex: 10000 entries, 0 to 9999\n",
      "Data columns (total 47 columns):\n",
      " #   Column                            Non-Null Count  Dtype  \n",
      "---  ------                            --------------  -----  \n",
      " 0   ID                                10000 non-null  int64  \n",
      " 1   Age                               10000 non-null  float64\n",
      " 2   Weight (lbs)                      10000 non-null  float64\n",
      " 3   Daily Walk Distance (miles)       10000 non-null  float64\n",
      " 4   Hours of Sleep                    10000 non-null  float64\n",
      " 5   Play Time (hrs)                   10000 non-null  float64\n",
      " 6   Annual Vet Visits                 10000 non-null  float64\n",
      " 7   Average Temperature (F)           10000 non-null  float64\n",
      " 8   Healthy                           10000 non-null  object \n",
      " 9   Breed_Beagle                      10000 non-null  bool   \n",
      " 10  Breed_Boxer                       10000 non-null  bool   \n",
      " 11  Breed_Bulldog                     10000 non-null  bool   \n",
      " 12  Breed_Chihuahua                   10000 non-null  bool   \n",
      " 13  Breed_Dachshund                   10000 non-null  bool   \n",
      " 14  Breed_Doberman                    10000 non-null  bool   \n",
      " 15  Breed_German Shepherd             10000 non-null  bool   \n",
      " 16  Breed_Golden Retriever            10000 non-null  bool   \n",
      " 17  Breed_Great Dane                  10000 non-null  bool   \n",
      " 18  Breed_Labrador Retriever          10000 non-null  bool   \n",
      " 19  Breed_Poodle                      10000 non-null  bool   \n",
      " 20  Breed_Rottweiler                  10000 non-null  bool   \n",
      " 21  Breed_Siberian Husky              10000 non-null  bool   \n",
      " 22  Breed_Yorkshire Terrier           10000 non-null  bool   \n",
      " 23  Breed Size_Medium                 10000 non-null  bool   \n",
      " 24  Breed Size_Small                  10000 non-null  bool   \n",
      " 25  Sex_Male                          10000 non-null  bool   \n",
      " 26  Spay/Neuter Status_Spayed         10000 non-null  bool   \n",
      " 27  Daily Activity Level_Low          10000 non-null  bool   \n",
      " 28  Daily Activity Level_Moderate     10000 non-null  bool   \n",
      " 29  Daily Activity Level_Very Active  10000 non-null  bool   \n",
      " 30  Diet_Home cooked                  10000 non-null  bool   \n",
      " 31  Diet_Special diet                 10000 non-null  bool   \n",
      " 32  Diet_Wet food                     10000 non-null  bool   \n",
      " 33  Food Brand_Hill's Science         10000 non-null  bool   \n",
      " 34  Food Brand_Iams                   10000 non-null  bool   \n",
      " 35  Food Brand_Nutro                  10000 non-null  bool   \n",
      " 36  Food Brand_Pedigree               10000 non-null  bool   \n",
      " 37  Food Brand_Purina                 10000 non-null  bool   \n",
      " 38  Food Brand_Royal Canin            10000 non-null  bool   \n",
      " 39  Food Brand_Special                10000 non-null  bool   \n",
      " 40  Food Brand_Wellness               10000 non-null  bool   \n",
      " 41  Other Pets in Household_Yes       10000 non-null  bool   \n",
      " 42  Medications_Yes                   10000 non-null  bool   \n",
      " 43  Seizures_Yes                      10000 non-null  bool   \n",
      " 44  Owner Activity Level_Low          10000 non-null  bool   \n",
      " 45  Owner Activity Level_Moderate     10000 non-null  bool   \n",
      " 46  Owner Activity Level_Very Active  10000 non-null  bool   \n",
      "dtypes: bool(38), float64(7), int64(1), object(1)\n",
      "memory usage: 1.0+ MB\n",
      "None\n",
      "\n",
      "👀 PRIMERAS 5 FILAS:\n"
     ]
    },
    {
     "data": {
      "text/html": [
       "<pre style=\"white-space:pre;overflow-x:auto;line-height:normal;font-family:Menlo,'DejaVu Sans Mono',consolas,'Courier New',monospace\"></pre>\n"
      ],
      "text/plain": []
     },
     "metadata": {},
     "output_type": "display_data"
    },
    {
     "data": {
      "text/html": [
       "<div>\n",
       "<style scoped>\n",
       "    .dataframe tbody tr th:only-of-type {\n",
       "        vertical-align: middle;\n",
       "    }\n",
       "\n",
       "    .dataframe tbody tr th {\n",
       "        vertical-align: top;\n",
       "    }\n",
       "\n",
       "    .dataframe thead th {\n",
       "        text-align: right;\n",
       "    }\n",
       "</style>\n",
       "<table border=\"1\" class=\"dataframe\">\n",
       "  <thead>\n",
       "    <tr style=\"text-align: right;\">\n",
       "      <th></th>\n",
       "      <th>ID</th>\n",
       "      <th>Age</th>\n",
       "      <th>Weight (lbs)</th>\n",
       "      <th>Daily Walk Distance (miles)</th>\n",
       "      <th>Hours of Sleep</th>\n",
       "      <th>Play Time (hrs)</th>\n",
       "      <th>Annual Vet Visits</th>\n",
       "      <th>Average Temperature (F)</th>\n",
       "      <th>Healthy</th>\n",
       "      <th>Breed_Beagle</th>\n",
       "      <th>...</th>\n",
       "      <th>Food Brand_Purina</th>\n",
       "      <th>Food Brand_Royal Canin</th>\n",
       "      <th>Food Brand_Special</th>\n",
       "      <th>Food Brand_Wellness</th>\n",
       "      <th>Other Pets in Household_Yes</th>\n",
       "      <th>Medications_Yes</th>\n",
       "      <th>Seizures_Yes</th>\n",
       "      <th>Owner Activity Level_Low</th>\n",
       "      <th>Owner Activity Level_Moderate</th>\n",
       "      <th>Owner Activity Level_Very Active</th>\n",
       "    </tr>\n",
       "  </thead>\n",
       "  <tbody>\n",
       "    <tr>\n",
       "      <th>0</th>\n",
       "      <td>1</td>\n",
       "      <td>3.0</td>\n",
       "      <td>0.667766</td>\n",
       "      <td>5.0</td>\n",
       "      <td>12.0</td>\n",
       "      <td>1.0</td>\n",
       "      <td>0.0</td>\n",
       "      <td>30.0</td>\n",
       "      <td>Yes</td>\n",
       "      <td>False</td>\n",
       "      <td>...</td>\n",
       "      <td>False</td>\n",
       "      <td>False</td>\n",
       "      <td>False</td>\n",
       "      <td>True</td>\n",
       "      <td>False</td>\n",
       "      <td>True</td>\n",
       "      <td>False</td>\n",
       "      <td>False</td>\n",
       "      <td>False</td>\n",
       "      <td>False</td>\n",
       "    </tr>\n",
       "    <tr>\n",
       "      <th>1</th>\n",
       "      <td>2</td>\n",
       "      <td>4.0</td>\n",
       "      <td>0.463419</td>\n",
       "      <td>2.0</td>\n",
       "      <td>11.0</td>\n",
       "      <td>3.0</td>\n",
       "      <td>0.0</td>\n",
       "      <td>47.0</td>\n",
       "      <td>Yes</td>\n",
       "      <td>False</td>\n",
       "      <td>...</td>\n",
       "      <td>False</td>\n",
       "      <td>False</td>\n",
       "      <td>True</td>\n",
       "      <td>False</td>\n",
       "      <td>True</td>\n",
       "      <td>False</td>\n",
       "      <td>False</td>\n",
       "      <td>False</td>\n",
       "      <td>False</td>\n",
       "      <td>True</td>\n",
       "    </tr>\n",
       "    <tr>\n",
       "      <th>2</th>\n",
       "      <td>3</td>\n",
       "      <td>12.0</td>\n",
       "      <td>1.144576</td>\n",
       "      <td>1.0</td>\n",
       "      <td>10.0</td>\n",
       "      <td>1.0</td>\n",
       "      <td>0.0</td>\n",
       "      <td>92.0</td>\n",
       "      <td>Yes</td>\n",
       "      <td>False</td>\n",
       "      <td>...</td>\n",
       "      <td>False</td>\n",
       "      <td>False</td>\n",
       "      <td>True</td>\n",
       "      <td>False</td>\n",
       "      <td>True</td>\n",
       "      <td>False</td>\n",
       "      <td>False</td>\n",
       "      <td>True</td>\n",
       "      <td>False</td>\n",
       "      <td>False</td>\n",
       "    </tr>\n",
       "    <tr>\n",
       "      <th>3</th>\n",
       "      <td>4</td>\n",
       "      <td>13.0</td>\n",
       "      <td>0.000000</td>\n",
       "      <td>4.0</td>\n",
       "      <td>12.0</td>\n",
       "      <td>2.0</td>\n",
       "      <td>0.0</td>\n",
       "      <td>75.0</td>\n",
       "      <td>Yes</td>\n",
       "      <td>False</td>\n",
       "      <td>...</td>\n",
       "      <td>False</td>\n",
       "      <td>False</td>\n",
       "      <td>True</td>\n",
       "      <td>False</td>\n",
       "      <td>False</td>\n",
       "      <td>False</td>\n",
       "      <td>False</td>\n",
       "      <td>False</td>\n",
       "      <td>False</td>\n",
       "      <td>True</td>\n",
       "    </tr>\n",
       "    <tr>\n",
       "      <th>4</th>\n",
       "      <td>5</td>\n",
       "      <td>13.0</td>\n",
       "      <td>0.000000</td>\n",
       "      <td>3.0</td>\n",
       "      <td>9.0</td>\n",
       "      <td>1.0</td>\n",
       "      <td>0.0</td>\n",
       "      <td>64.0</td>\n",
       "      <td>No</td>\n",
       "      <td>False</td>\n",
       "      <td>...</td>\n",
       "      <td>True</td>\n",
       "      <td>False</td>\n",
       "      <td>False</td>\n",
       "      <td>False</td>\n",
       "      <td>True</td>\n",
       "      <td>True</td>\n",
       "      <td>False</td>\n",
       "      <td>False</td>\n",
       "      <td>False</td>\n",
       "      <td>True</td>\n",
       "    </tr>\n",
       "  </tbody>\n",
       "</table>\n",
       "<p>5 rows × 47 columns</p>\n",
       "</div>"
      ],
      "text/plain": [
       "\n",
       "   ID   Age  Weight \u001b[1m(\u001b[0mlbs\u001b[1m)\u001b[0m  Daily Walk Distance \u001b[1m(\u001b[0mmiles\u001b[1m)\u001b[0m  Hours of Sleep  \\\n",
       "\u001b[1;36m0\u001b[0m   \u001b[1;36m1\u001b[0m   \u001b[1;36m3.0\u001b[0m      \u001b[1;36m0.667766\u001b[0m                          \u001b[1;36m5.0\u001b[0m            \u001b[1;36m12.0\u001b[0m   \n",
       "\u001b[1;36m1\u001b[0m   \u001b[1;36m2\u001b[0m   \u001b[1;36m4.0\u001b[0m      \u001b[1;36m0.463419\u001b[0m                          \u001b[1;36m2.0\u001b[0m            \u001b[1;36m11.0\u001b[0m   \n",
       "\u001b[1;36m2\u001b[0m   \u001b[1;36m3\u001b[0m  \u001b[1;36m12.0\u001b[0m      \u001b[1;36m1.144576\u001b[0m                          \u001b[1;36m1.0\u001b[0m            \u001b[1;36m10.0\u001b[0m   \n",
       "\u001b[1;36m3\u001b[0m   \u001b[1;36m4\u001b[0m  \u001b[1;36m13.0\u001b[0m      \u001b[1;36m0.000000\u001b[0m                          \u001b[1;36m4.0\u001b[0m            \u001b[1;36m12.0\u001b[0m   \n",
       "\u001b[1;36m4\u001b[0m   \u001b[1;36m5\u001b[0m  \u001b[1;36m13.0\u001b[0m      \u001b[1;36m0.000000\u001b[0m                          \u001b[1;36m3.0\u001b[0m             \u001b[1;36m9.0\u001b[0m   \n",
       "\n",
       "   Play Time \u001b[1m(\u001b[0mhrs\u001b[1m)\u001b[0m  Annual Vet Visits  Average Temperature \u001b[1m(\u001b[0mF\u001b[1m)\u001b[0m Healthy  \\\n",
       "\u001b[1;36m0\u001b[0m              \u001b[1;36m1.0\u001b[0m                \u001b[1;36m0.0\u001b[0m                     \u001b[1;36m30.0\u001b[0m     Yes   \n",
       "\u001b[1;36m1\u001b[0m              \u001b[1;36m3.0\u001b[0m                \u001b[1;36m0.0\u001b[0m                     \u001b[1;36m47.0\u001b[0m     Yes   \n",
       "\u001b[1;36m2\u001b[0m              \u001b[1;36m1.0\u001b[0m                \u001b[1;36m0.0\u001b[0m                     \u001b[1;36m92.0\u001b[0m     Yes   \n",
       "\u001b[1;36m3\u001b[0m              \u001b[1;36m2.0\u001b[0m                \u001b[1;36m0.0\u001b[0m                     \u001b[1;36m75.0\u001b[0m     Yes   \n",
       "\u001b[1;36m4\u001b[0m              \u001b[1;36m1.0\u001b[0m                \u001b[1;36m0.0\u001b[0m                     \u001b[1;36m64.0\u001b[0m      No   \n",
       "\n",
       "   Breed_Beagle  \u001b[33m...\u001b[0m  Food Brand_Purina  Food Brand_Royal Canin  \\\n",
       "\u001b[1;36m0\u001b[0m         \u001b[3;91mFalse\u001b[0m  \u001b[33m...\u001b[0m              \u001b[3;91mFalse\u001b[0m                   \u001b[3;91mFalse\u001b[0m   \n",
       "\u001b[1;36m1\u001b[0m         \u001b[3;91mFalse\u001b[0m  \u001b[33m...\u001b[0m              \u001b[3;91mFalse\u001b[0m                   \u001b[3;91mFalse\u001b[0m   \n",
       "\u001b[1;36m2\u001b[0m         \u001b[3;91mFalse\u001b[0m  \u001b[33m...\u001b[0m              \u001b[3;91mFalse\u001b[0m                   \u001b[3;91mFalse\u001b[0m   \n",
       "\u001b[1;36m3\u001b[0m         \u001b[3;91mFalse\u001b[0m  \u001b[33m...\u001b[0m              \u001b[3;91mFalse\u001b[0m                   \u001b[3;91mFalse\u001b[0m   \n",
       "\u001b[1;36m4\u001b[0m         \u001b[3;91mFalse\u001b[0m  \u001b[33m...\u001b[0m               \u001b[3;92mTrue\u001b[0m                   \u001b[3;91mFalse\u001b[0m   \n",
       "\n",
       "   Food Brand_Special  Food Brand_Wellness  Other Pets in Household_Yes  \\\n",
       "\u001b[1;36m0\u001b[0m               \u001b[3;91mFalse\u001b[0m                 \u001b[3;92mTrue\u001b[0m                        \u001b[3;91mFalse\u001b[0m   \n",
       "\u001b[1;36m1\u001b[0m                \u001b[3;92mTrue\u001b[0m                \u001b[3;91mFalse\u001b[0m                         \u001b[3;92mTrue\u001b[0m   \n",
       "\u001b[1;36m2\u001b[0m                \u001b[3;92mTrue\u001b[0m                \u001b[3;91mFalse\u001b[0m                         \u001b[3;92mTrue\u001b[0m   \n",
       "\u001b[1;36m3\u001b[0m                \u001b[3;92mTrue\u001b[0m                \u001b[3;91mFalse\u001b[0m                        \u001b[3;91mFalse\u001b[0m   \n",
       "\u001b[1;36m4\u001b[0m               \u001b[3;91mFalse\u001b[0m                \u001b[3;91mFalse\u001b[0m                         \u001b[3;92mTrue\u001b[0m   \n",
       "\n",
       "   Medications_Yes  Seizures_Yes  Owner Activity Level_Low  \\\n",
       "\u001b[1;36m0\u001b[0m             \u001b[3;92mTrue\u001b[0m         \u001b[3;91mFalse\u001b[0m                     \u001b[3;91mFalse\u001b[0m   \n",
       "\u001b[1;36m1\u001b[0m            \u001b[3;91mFalse\u001b[0m         \u001b[3;91mFalse\u001b[0m                     \u001b[3;91mFalse\u001b[0m   \n",
       "\u001b[1;36m2\u001b[0m            \u001b[3;91mFalse\u001b[0m         \u001b[3;91mFalse\u001b[0m                      \u001b[3;92mTrue\u001b[0m   \n",
       "\u001b[1;36m3\u001b[0m            \u001b[3;91mFalse\u001b[0m         \u001b[3;91mFalse\u001b[0m                     \u001b[3;91mFalse\u001b[0m   \n",
       "\u001b[1;36m4\u001b[0m             \u001b[3;92mTrue\u001b[0m         \u001b[3;91mFalse\u001b[0m                     \u001b[3;91mFalse\u001b[0m   \n",
       "\n",
       "   Owner Activity Level_Moderate  Owner Activity Level_Very Active  \n",
       "\u001b[1;36m0\u001b[0m                          \u001b[3;91mFalse\u001b[0m                             \u001b[3;91mFalse\u001b[0m  \n",
       "\u001b[1;36m1\u001b[0m                          \u001b[3;91mFalse\u001b[0m                              \u001b[3;92mTrue\u001b[0m  \n",
       "\u001b[1;36m2\u001b[0m                          \u001b[3;91mFalse\u001b[0m                             \u001b[3;91mFalse\u001b[0m  \n",
       "\u001b[1;36m3\u001b[0m                          \u001b[3;91mFalse\u001b[0m                              \u001b[3;92mTrue\u001b[0m  \n",
       "\u001b[1;36m4\u001b[0m                          \u001b[3;91mFalse\u001b[0m                              \u001b[3;92mTrue\u001b[0m  \n",
       "\n",
       "\u001b[1m[\u001b[0m\u001b[1;36m5\u001b[0m rows x \u001b[1;36m47\u001b[0m columns\u001b[1m]\u001b[0m"
      ]
     },
     "metadata": {},
     "output_type": "display_data"
    }
   ],
   "source": [
    "\n",
    "print(\"\\n6. VERIFICACIÓN FINAL\")\n",
    "print(\"=\" * 40)\n",
    "\n",
    "# Mostrar información del dataset limpio\n",
    "print(\"📝 INFORMACIÓN DEL DATASET LIMPIO:\")\n",
    "print(df_encoded.info())\n",
    "\n",
    "# Mostrar primeras filas\n",
    "print(\"\\n👀 PRIMERAS 5 FILAS:\")\n",
    "display(df_encoded.head())"
   ]
  },
  {
   "cell_type": "code",
   "execution_count": null,
   "id": "3a8194d3-0726-4705-b310-30752f317490",
   "metadata": {},
   "outputs": [],
   "source": []
  }
 ],
 "metadata": {
  "kernelspec": {
   "display_name": "Kedro (dino_project)",
   "language": "python",
   "name": "kedro_dino_project"
  },
  "language_info": {
   "codemirror_mode": {
    "name": "ipython",
    "version": 3
   },
   "file_extension": ".py",
   "mimetype": "text/x-python",
   "name": "python",
   "nbconvert_exporter": "python",
   "pygments_lexer": "ipython3",
   "version": "3.10.6"
  }
 },
 "nbformat": 4,
 "nbformat_minor": 5
}
